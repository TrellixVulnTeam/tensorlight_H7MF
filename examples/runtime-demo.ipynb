{
 "cells": [
  {
   "cell_type": "markdown",
   "metadata": {},
   "source": [
    "# TensorTools Runtime Demo\n",
    "\n",
    "Demonstrates the usage of the runtime using a simple autoencoder model."
   ]
  },
  {
   "cell_type": "code",
   "execution_count": null,
   "metadata": {
    "collapsed": false
   },
   "outputs": [],
   "source": [
    "# Force matplotlib to use inline rendering\n",
    "%matplotlib inline\n",
    "\n",
    "import os\n",
    "import sys\n",
    "\n",
    "# add path to libraries for ipython\n",
    "sys.path.append(os.path.expanduser(\"~/libs\"))\n",
    "\n",
    "import numpy as np\n",
    "import tensorflow as tf\n",
    "import tensortools as tt"
   ]
  },
  {
   "cell_type": "code",
   "execution_count": null,
   "metadata": {
    "collapsed": true
   },
   "outputs": [],
   "source": [
    "BATCH_SIZE = 32\n",
    "REG_LAMBDA = 5e-4\n",
    "NUM_GPUS = 2"
   ]
  },
  {
   "cell_type": "code",
   "execution_count": null,
   "metadata": {
    "collapsed": false
   },
   "outputs": [],
   "source": [
    "#dataset_train = tt.datasets.moving_mnist.MovingMNISTTrainDataset(input_seq_length=1, target_seq_length=0)\n",
    "#dataset_valid = tt.datasets.moving_mnist.MovingMNISTValidDataset(input_seq_length=1, target_seq_length=0)\n",
    "#dataset_test = tt.datasets.moving_mnist.MovingMNISTTestDataset(input_seq_length=1, target_seq_length=0)"
   ]
  },
  {
   "cell_type": "code",
   "execution_count": null,
   "metadata": {
    "collapsed": false
   },
   "outputs": [],
   "source": [
    "dataset_train = tt.datasets.mnist.MNISTTrainDataset()\n",
    "dataset_valid = tt.datasets.mnist.MNISTValidDataset()\n",
    "#dataset_test = tt.datasets.mnist.MNISTTestDataset()"
   ]
  },
  {
   "cell_type": "code",
   "execution_count": null,
   "metadata": {
    "collapsed": false
   },
   "outputs": [],
   "source": [
    "dataset_train = tt.datasets.ucf11.UCF11TrainDataset(input_seq_length=1, target_seq_length=1,\n",
    "                                                    image_size=(60, 80, 1),\n",
    "                                                    min_exampled_in_queue=256,\n",
    "                                                    num_threads=8,\n",
    "                                                    do_distortion=False)\n",
    "dataset_valid = tt.datasets.ucf11.UCF11TrainDataset(input_seq_length=1, target_seq_length=1,\n",
    "                                                    image_size=(60, 80, 1),\n",
    "                                                    min_exampled_in_queue=256,\n",
    "                                                    num_threads=8,\n",
    "                                                    do_distortion=False)"
   ]
  },
  {
   "cell_type": "code",
   "execution_count": null,
   "metadata": {
    "collapsed": false
   },
   "outputs": [],
   "source": [
    "class SimpleAutoencoderModel(tt.model.AbstractModel):    \n",
    "    def __init__(self, reg_lambda=0.0):\n",
    "        super(SimpleAutoencoderModel, self).__init__(reg_lambda)\n",
    "        \n",
    "    @tt.utils.attr.override\n",
    "    def inference(self, inputs, targets, is_training=True,\n",
    "                  device_scope=None, memory_device=None):\n",
    "        input_shape = inputs.get_shape()\n",
    "        \n",
    "        x = tf.contrib.layers.flatten(inputs)\n",
    "        encoded = tt.network.fc(\"FC_Enc\", x, 64,\n",
    "                                weight_init=tf.contrib.layers.xavier_initializer(),\n",
    "                                bias_init=0.0,\n",
    "                                activation=tf.nn.relu,\n",
    "                                device=memory_device)\n",
    "        representation = encoded\n",
    "        decoded = tt.network.fc(\"FC_Dec\", representation, x.get_shape()[1],\n",
    "                                weight_init=tf.contrib.layers.xavier_initializer(),\n",
    "                                bias_init=0.0,\n",
    "                                activation=tf.nn.sigmoid,\n",
    "                                device=memory_device)\n",
    "\n",
    "        return tf.reshape(decoded, [-1] + [int(x) for x in input_shape[1:]])\n",
    "    \n",
    "    @tt.utils.attr.override\n",
    "    def loss(self, predictions, targets):\n",
    "        return tt.loss.mse(predictions, targets)"
   ]
  },
  {
   "cell_type": "code",
   "execution_count": null,
   "metadata": {
    "collapsed": false
   },
   "outputs": [],
   "source": [
    "#runtime = tt.core.MultiGpuRuntime(NUM_GPUS)\n",
    "runtime = tt.core.DefaultRuntime()\n",
    "runtime.register_datasets(dataset_train, dataset_valid)\n",
    "runtime.register_model(SimpleAutoencoderModel(reg_lambda=REG_LAMBDA))\n",
    "runtime.build(is_autoencoder=True)"
   ]
  },
  {
   "cell_type": "code",
   "execution_count": null,
   "metadata": {
    "collapsed": false
   },
   "outputs": [],
   "source": [
    "runtime.train(BATCH_SIZE, steps=1000)"
   ]
  },
  {
   "cell_type": "code",
   "execution_count": null,
   "metadata": {
    "collapsed": false
   },
   "outputs": [],
   "source": [
    "runtime.validate(batch_size=50)"
   ]
  },
  {
   "cell_type": "code",
   "execution_count": null,
   "metadata": {
    "collapsed": false
   },
   "outputs": [],
   "source": [
    "runtime.test(batch_size=50)"
   ]
  },
  {
   "cell_type": "code",
   "execution_count": null,
   "metadata": {
    "collapsed": false
   },
   "outputs": [],
   "source": [
    "# because we use a queue, we have to launch all these ops in the same run.\n",
    "inputs, inputs2, targets = runtime.run([runtime._x, runtime._x, runtime._y_,])\n",
    "\n",
    "# this prediction uses another input compared to the run above.\n",
    "predictions = runtime.predict(runtime._x)\n",
    "\n",
    "print(inputs.min(), inputs.max())\n",
    "print(targets.min(), targets.max())\n",
    "print(predictions.min(), predictions.max())\n",
    "\n",
    "tt.visualization.display_batch((inputs + 1) * 127.5, title=\"Inputs\")\n",
    "tt.visualization.display_batch((inputs2 + 1) * 127.5, title=\"Inputs2\")\n",
    "tt.visualization.display_batch((targets + 1) * 127.5, title=\"Targets\")\n",
    "tt.visualization.display_batch(predictions * 255, title=\"Predictions\")"
   ]
  },
  {
   "cell_type": "code",
   "execution_count": null,
   "metadata": {
    "collapsed": false
   },
   "outputs": [],
   "source": [
    "runtime.close()"
   ]
  },
  {
   "cell_type": "code",
   "execution_count": null,
   "metadata": {
    "collapsed": true
   },
   "outputs": [],
   "source": []
  }
 ],
 "metadata": {
  "kernelspec": {
   "display_name": "Python 2",
   "language": "python",
   "name": "python2"
  },
  "language_info": {
   "codemirror_mode": {
    "name": "ipython",
    "version": 2
   },
   "file_extension": ".py",
   "mimetype": "text/x-python",
   "name": "python",
   "nbconvert_exporter": "python",
   "pygments_lexer": "ipython2",
   "version": "2.7.6"
  }
 },
 "nbformat": 4,
 "nbformat_minor": 0
}
