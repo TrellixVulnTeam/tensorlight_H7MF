{
 "cells": [
  {
   "cell_type": "markdown",
   "metadata": {},
   "source": [
    "# TensorTools Runtime Demo\n",
    "\n",
    "Demonstrates the usage of the runtime using a simple autoencoder model."
   ]
  },
  {
   "cell_type": "code",
   "execution_count": null,
   "metadata": {
    "collapsed": false
   },
   "outputs": [],
   "source": [
    "# Force matplotlib to use inline rendering\n",
    "%matplotlib inline\n",
    "\n",
    "import os\n",
    "import sys\n",
    "\n",
    "# add path to libraries for ipython\n",
    "sys.path.append(os.path.expanduser(\"~/libs\"))\n",
    "\n",
    "import numpy as np\n",
    "import tensorflow as tf\n",
    "import tensortools as tt"
   ]
  },
  {
   "cell_type": "code",
   "execution_count": null,
   "metadata": {
    "collapsed": true
   },
   "outputs": [],
   "source": [
    "BATCH_SIZE = 24\n",
    "REG_LAMBDA = 5e-4\n",
    "NUM_GPUS = 2"
   ]
  },
  {
   "cell_type": "code",
   "execution_count": null,
   "metadata": {
    "collapsed": false
   },
   "outputs": [],
   "source": [
    "dataset_train = tt.datasets.moving_mnist.MovingMNISTTrainDataset(BATCH_SIZE * NUM_GPUS,\n",
    "                                                                 input_seq_length=1, target_seq_length=0)\n",
    "dataset_valid = tt.datasets.moving_mnist.MovingMNISTValidDataset(BATCH_SIZE * NUM_GPUS,\n",
    "                                                                 input_seq_length=1, target_seq_length=0)\n",
    "#dataset_test = tt.datasets.moving_mnist.MovingMNISTTestDataset(BATCH_SIZE * NUM_GPUS,\n",
    "#                                                               input_seq_length=1, target_seq_length=0)"
   ]
  },
  {
   "cell_type": "code",
   "execution_count": null,
   "metadata": {
    "collapsed": false
   },
   "outputs": [],
   "source": [
    "class SimpleAutoencoderModel(tt.model.AbstractModel):\n",
    "    \"\"\"Simple neuronal autoencoder.\n",
    "    \"\"\"\n",
    "    def __init__(self, inputs, targets, reg_lambda,\n",
    "                 is_training=True, device_scope=None, memory_device=None):\n",
    "        super(SimpleAutoencoderModel, self).__init__(inputs, targets, reg_lambda,\n",
    "                                                     is_training, device_scope, memory_device)\n",
    "    \n",
    "    @tt.utils.attr.lazy_property\n",
    "    def predictions(self):\n",
    "        x = tf.contrib.layers.flatten(self.inputs)\n",
    "        encoded = tt.network.fc(\"FC_Enc\", x, 128,\n",
    "                                weight_init=tf.contrib.layers.xavier_initializer(),\n",
    "                                bias_init=0.0,\n",
    "                                activation=tf.nn.relu,\n",
    "                                device=self.memory_device)\n",
    "        representation = encoded\n",
    "        decoded = tt.network.fc(\"FC_Dec\", representation, self.input_shape[1] * self.input_shape[2] * self.input_shape[3],\n",
    "                                weight_init=tf.contrib.layers.xavier_initializer(),\n",
    "                                bias_init=0.0,\n",
    "                                activation=tf.nn.sigmoid,\n",
    "                                device=self.memory_device)\n",
    "        \n",
    "        return tf.reshape(decoded, [-1, 1, self.input_shape[2], self.input_shape[3], self.input_shape[4]])\n",
    "\n",
    "    @tt.utils.attr.lazy_property\n",
    "    def loss(self):\n",
    "        return tt.loss.bce(self.predictions, self.targets)"
   ]
  },
  {
   "cell_type": "code",
   "execution_count": null,
   "metadata": {
    "collapsed": false
   },
   "outputs": [],
   "source": [
    "runtime = tt.core.MultiGpuRuntime()\n",
    "runtime.register_datasets(dataset_train, dataset_valid)\n",
    "runtime.register_model(\n",
    "    lambda x, y, scope, is_training : SimpleAutoencoderModel(x, y,\n",
    "                                                             reg_lambda=REG_LAMBDA,\n",
    "                                                             is_training=is_training,\n",
    "                                                             device_scope=scope))\n",
    "                # TODO: set memory_device. Change this! (init() method? Factory-method?)\n",
    "runtime.build(is_autoencoder=True)"
   ]
  },
  {
   "cell_type": "code",
   "execution_count": null,
   "metadata": {
    "collapsed": false
   },
   "outputs": [],
   "source": [
    "runtime.train(steps=5000)"
   ]
  },
  {
   "cell_type": "code",
   "execution_count": null,
   "metadata": {
    "collapsed": false
   },
   "outputs": [],
   "source": [
    "runtime.validate()"
   ]
  },
  {
   "cell_type": "code",
   "execution_count": null,
   "metadata": {
    "collapsed": false
   },
   "outputs": [],
   "source": [
    "runtime.test()"
   ]
  },
  {
   "cell_type": "code",
   "execution_count": null,
   "metadata": {
    "collapsed": false
   },
   "outputs": [],
   "source": [
    "batch_x, _ = dataset_valid.get_batch()\n",
    "\n",
    "predictions = runtime.predict(batch_x)\n",
    "print(predictions.shape)\n",
    "\n",
    "tt.visualization.display_batch(batch_x[0:4,0,:,:,:])\n",
    "tt.visualization.display_batch(predictions[0:4,0,:,:,:])"
   ]
  },
  {
   "cell_type": "code",
   "execution_count": null,
   "metadata": {
    "collapsed": true
   },
   "outputs": [],
   "source": [
    "runtime.close()"
   ]
  },
  {
   "cell_type": "code",
   "execution_count": null,
   "metadata": {
    "collapsed": true
   },
   "outputs": [],
   "source": []
  }
 ],
 "metadata": {
  "kernelspec": {
   "display_name": "Python 2",
   "language": "python",
   "name": "python2"
  },
  "language_info": {
   "codemirror_mode": {
    "name": "ipython",
    "version": 2
   },
   "file_extension": ".py",
   "mimetype": "text/x-python",
   "name": "python",
   "nbconvert_exporter": "python",
   "pygments_lexer": "ipython2",
   "version": "2.7.6"
  }
 },
 "nbformat": 4,
 "nbformat_minor": 0
}
