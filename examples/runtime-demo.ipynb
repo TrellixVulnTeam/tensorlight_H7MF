{
 "cells": [
  {
   "cell_type": "markdown",
   "metadata": {},
   "source": [
    "# TensorTools Runtime Demo\n",
    "\n",
    "Demonstrates the usage of the runtime using a simple autoencoder model."
   ]
  },
  {
   "cell_type": "code",
   "execution_count": null,
   "metadata": {
    "collapsed": false
   },
   "outputs": [],
   "source": [
    "# Force matplotlib to use inline rendering\n",
    "%matplotlib inline\n",
    "\n",
    "import os\n",
    "import sys\n",
    "\n",
    "# add path to libraries for ipython\n",
    "sys.path.append(os.path.expanduser(\"~/libs\"))\n",
    "\n",
    "import numpy as np\n",
    "import tensorflow as tf\n",
    "import tensortools as tt"
   ]
  },
  {
   "cell_type": "code",
   "execution_count": null,
   "metadata": {
    "collapsed": true
   },
   "outputs": [],
   "source": [
    "TRAIN_DIR = \"/work/sauterme/train-examples/runtime-demo\"\n",
    "\n",
    "BATCH_SIZE = 24\n",
    "REG_LAMBDA = 5e-4\n",
    "INITIAL_LR = 0.001\n",
    "LR_DECAY_STEP_INTERVAL = 10000\n",
    "LR_DECAY_RATE = 0.5\n",
    "NUM_GPUS = 2"
   ]
  },
  {
   "cell_type": "code",
   "execution_count": null,
   "metadata": {
    "collapsed": false
   },
   "outputs": [],
   "source": [
    "DATA_ROOT = \"/work/sauterme/data\"\n",
    "dataset_train = tt.datasets.mnist.MNISTTrainDataset(DATA_ROOT)\n",
    "dataset_valid = tt.datasets.mnist.MNISTValidDataset(DATA_ROOT)\n",
    "dataset_test = tt.datasets.mnist.MNISTTestDataset(DATA_ROOT)"
   ]
  },
  {
   "cell_type": "code",
   "execution_count": null,
   "metadata": {
    "collapsed": false
   },
   "outputs": [],
   "source": [
    "class SimpleAutoencoderModel(tt.model.AbstractModel):    \n",
    "    def __init__(self, reg_lambda=0.0):\n",
    "        super(SimpleAutoencoderModel, self).__init__(reg_lambda)\n",
    "        \n",
    "    @tt.utils.attr.override\n",
    "    def inference(self, inputs, targets, feeds,\n",
    "                  is_training, device_scope, memory_device):\n",
    "        x = tf.contrib.layers.flatten(inputs)\n",
    "        encoded = tt.network.fc(\"FC_Enc\", x, 64,\n",
    "                                weight_init=tf.contrib.layers.xavier_initializer(),\n",
    "                                bias_init=0.0,\n",
    "                                regularizer=tf.contrib.layers.regularizers.l2_regularizer(self.reg_lambda),\n",
    "                                activation=tf.nn.relu,\n",
    "                                device=memory_device)\n",
    "        representation = encoded\n",
    "        decoded = tt.network.fc(\"FC_Dec\", representation, x.get_shape()[1],\n",
    "                                weight_init=tf.contrib.layers.xavier_initializer(),\n",
    "                                bias_init=0.0,\n",
    "                                regularizer=tf.contrib.layers.regularizers.l2_regularizer(self.reg_lambda),\n",
    "                                activation=tf.nn.sigmoid,\n",
    "                                device=memory_device)\n",
    "\n",
    "        return tf.reshape(decoded, [-1] + targets.get_shape().as_list()[1:])\n",
    "    \n",
    "    @tt.utils.attr.override\n",
    "    def loss(self, predictions, targets, device_scope):\n",
    "        loss1 = tt.loss.mse(predictions, targets)\n",
    "        loss2 = tt.loss.bce(predictions, targets)\n",
    "        \n",
    "        tf.add_to_collection(tt.core.LOG_LOSSES, loss1)\n",
    "        tf.add_to_collection(tt.core.LOG_LOSSES, loss2)\n",
    "        \n",
    "        return tf.add(0.5 * loss1, 0.5 * loss2, name=\"25mse_75bce\")\n",
    "    \n",
    "    @tt.utils.attr.override\n",
    "    def evaluation(self, predictions, targets, device_scope=None):\n",
    "        psnr = tt.image.psnr(predictions, targets)\n",
    "        sharpdiff = tt.image.sharp_diff(predictions, targets)\n",
    "        ssim = tt.image.ssim(predictions, targets, L=1.0)\n",
    "        \n",
    "        return {\"psnr\": psnr, \"sharpdiff\": sharpdiff, \"ssim\": ssim}"
   ]
  },
  {
   "cell_type": "code",
   "execution_count": null,
   "metadata": {
    "collapsed": false
   },
   "outputs": [],
   "source": [
    "tt.hardware.set_cuda_devices([2])\n",
    "runtime = tt.core.DefaultRuntime(train_dir=TRAIN_DIR)\n",
    "#runtime = tt.core.MultiGpuRuntime(NUM_GPUS, train_dir=TRAIN_DIR)\n",
    "runtime.register_datasets(dataset_train, dataset_valid, dataset_test)\n",
    "runtime.register_model(SimpleAutoencoderModel(reg_lambda=REG_LAMBDA))\n",
    "optimizer = tt.training.Optimizer('adam', INITIAL_LR)\n",
    "optimizer.set_decay(LR_DECAY_STEP_INTERVAL, LR_DECAY_RATE)\n",
    "runtime.register_optimizer(optimizer)\n",
    "runtime.build(is_autoencoder=True)"
   ]
  },
  {
   "cell_type": "code",
   "execution_count": null,
   "metadata": {
    "collapsed": true
   },
   "outputs": [],
   "source": [
    "def on_valid(rt, gstep):\n",
    "    print (\"On-Validate Hook...\")"
   ]
  },
  {
   "cell_type": "code",
   "execution_count": null,
   "metadata": {
    "collapsed": false
   },
   "outputs": [],
   "source": [
    "runtime.train(BATCH_SIZE, steps=1000, on_validate=on_valid,\n",
    "              display_steps=25, do_summary=False, do_checkpoints=False)"
   ]
  },
  {
   "cell_type": "code",
   "execution_count": null,
   "metadata": {
    "collapsed": false
   },
   "outputs": [],
   "source": [
    "runtime.validate(batch_size=50)"
   ]
  },
  {
   "cell_type": "code",
   "execution_count": null,
   "metadata": {
    "collapsed": false
   },
   "outputs": [],
   "source": [
    "runtime.test(batch_size=50)"
   ]
  },
  {
   "cell_type": "markdown",
   "metadata": {},
   "source": [
    "#### Use random input of same size as in training:"
   ]
  },
  {
   "cell_type": "code",
   "execution_count": null,
   "metadata": {
    "collapsed": false
   },
   "outputs": [],
   "source": [
    "image_shape = dataset_train.input_shape\n",
    "if len(image_shape) == 4: # MovingMNIST / UCF11\n",
    "    fake_input_batch = np.random.rand(4,1,image_shape[-3],image_shape[-2],image_shape[-1])\n",
    "else: # MNIST\n",
    "    fake_input_batch = np.random.rand(4,image_shape[-3],image_shape[-2],image_shape[-1])\n",
    "    \n",
    "print(fake_input_batch.shape)\n",
    "predictions = runtime.predict(fake_input_batch)\n",
    "\n",
    "print(predictions.shape)\n",
    "\n",
    "print(fake_input_batch.min(), fake_input_batch.max())\n",
    "print(predictions.min(), predictions.max())\n",
    "\n",
    "tt.visualization.display_batch(fake_input_batch, title=\"Inputs\")\n",
    "tt.visualization.display_batch(predictions, title=\"Predictions\")"
   ]
  },
  {
   "cell_type": "markdown",
   "metadata": {},
   "source": [
    "#### Use random image bigger than in training:"
   ]
  },
  {
   "cell_type": "code",
   "execution_count": null,
   "metadata": {
    "collapsed": false
   },
   "outputs": [],
   "source": [
    "SIZE_FACTOR = 2.0\n",
    "image_shape = dataset_train.input_shape\n",
    "if len(image_shape) == 4: # MovingMNIST / UCF11\n",
    "    fake_input_batch = np.random.rand(4,1,\n",
    "                                      int(image_shape[-3] * SIZE_FACTOR),\n",
    "                                      int(image_shape[-2] * SIZE_FACTOR),\n",
    "                                      image_shape[-1])\n",
    "else: # MNIST\n",
    "    fake_input_batch = np.random.rand(4,\n",
    "                                      int(image_shape[-3] * SIZE_FACTOR),\n",
    "                                      int(image_shape[-2] * SIZE_FACTOR),\n",
    "                                      image_shape[-1])\n",
    "    \n",
    "print(fake_input_batch.shape)\n",
    "predictions = runtime.predict(fake_input_batch)\n",
    "\n",
    "print(predictions.shape)\n",
    "\n",
    "print(fake_input_batch.min(), fake_input_batch.max())\n",
    "print(predictions.min(), predictions.max())\n",
    "\n",
    "tt.visualization.display_batch(fake_input_batch, title=\"Inputs\")\n",
    "tt.visualization.display_batch(predictions, title=\"Predictions\")"
   ]
  },
  {
   "cell_type": "code",
   "execution_count": null,
   "metadata": {
    "collapsed": false
   },
   "outputs": [],
   "source": [
    "runtime.close()"
   ]
  },
  {
   "cell_type": "code",
   "execution_count": null,
   "metadata": {
    "collapsed": true
   },
   "outputs": [],
   "source": []
  }
 ],
 "metadata": {
  "kernelspec": {
   "display_name": "Python 2",
   "language": "python",
   "name": "python2"
  },
  "language_info": {
   "codemirror_mode": {
    "name": "ipython",
    "version": 2
   },
   "file_extension": ".py",
   "mimetype": "text/x-python",
   "name": "python",
   "nbconvert_exporter": "python",
   "pygments_lexer": "ipython2",
   "version": "2.7.6"
  }
 },
 "nbformat": 4,
 "nbformat_minor": 0
}
