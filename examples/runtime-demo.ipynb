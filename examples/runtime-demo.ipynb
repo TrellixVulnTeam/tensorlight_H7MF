{
 "cells": [
  {
   "cell_type": "markdown",
   "metadata": {},
   "source": [
    "# TensorTools Runtime Demo\n",
    "\n",
    "Demonstrates the usage of the runtime using a simple autoencoder model."
   ]
  },
  {
   "cell_type": "code",
   "execution_count": null,
   "metadata": {
    "collapsed": false
   },
   "outputs": [],
   "source": [
    "# Force matplotlib to use inline rendering\n",
    "%matplotlib inline\n",
    "\n",
    "import os\n",
    "import sys\n",
    "\n",
    "# add path to libraries for ipython\n",
    "sys.path.append(os.path.expanduser(\"~/libs\"))\n",
    "\n",
    "import numpy as np\n",
    "import tensorflow as tf\n",
    "import tensortools as tt"
   ]
  },
  {
   "cell_type": "code",
   "execution_count": null,
   "metadata": {
    "collapsed": true
   },
   "outputs": [],
   "source": [
    "BATCH_SIZE = 16\n",
    "REG_LAMBDA = 5e-4\n",
    "INITIAL_LR = 0.005\n",
    "LR_DECAY_STEP_INTERVAL = 10000\n",
    "LR_DECAY_FACTOR = 0.5\n",
    "NUM_GPUS = 2"
   ]
  },
  {
   "cell_type": "code",
   "execution_count": null,
   "metadata": {
    "collapsed": false
   },
   "outputs": [],
   "source": [
    "dataset_train = tt.datasets.moving_mnist.MovingMNISTTrainDataset(input_shape=[1, 64, 64, 1],\n",
    "                                                                 target_shape=[1, 64, 64, 1])\n",
    "dataset_valid = tt.datasets.moving_mnist.MovingMNISTValidDataset(input_shape=[1, 64, 64, 1],\n",
    "                                                                 target_shape=[1, 64, 64, 1])\n",
    "#dataset_test = tt.datasets.moving_mnist.MovingMNISTTestDataset(input_seq_length=1, target_seq_length=0)"
   ]
  },
  {
   "cell_type": "code",
   "execution_count": null,
   "metadata": {
    "collapsed": false
   },
   "outputs": [],
   "source": [
    "dataset_train = tt.datasets.mnist.MNISTTrainDataset()\n",
    "dataset_valid = tt.datasets.mnist.MNISTValidDataset()\n",
    "#dataset_test = tt.datasets.mnist.MNISTTestDataset()"
   ]
  },
  {
   "cell_type": "code",
   "execution_count": null,
   "metadata": {
    "collapsed": false
   },
   "outputs": [],
   "source": [
    "dataset_train = tt.datasets.ucf11.UCF11TrainDataset(input_seq_length=1, target_seq_length=1,\n",
    "                                                    image_size=(60, 80, 1),\n",
    "                                                    num_threads=8,\n",
    "                                                    do_distortion=False)\n",
    "#dataset_valid = tt.datasets.ucf11.UCF11TrainDataset(input_seq_length=1, target_seq_length=1,\n",
    "#                                                    image_size=(60, 80, 1),\n",
    "#                                                    num_threads=8,\n",
    "#                                                    do_distortion=False)\n",
    "dataset_valid = None"
   ]
  },
  {
   "cell_type": "code",
   "execution_count": null,
   "metadata": {
    "collapsed": false
   },
   "outputs": [],
   "source": [
    "class SimpleAutoencoderModel(tt.model.AbstractModel):    \n",
    "    def __init__(self, reg_lambda=0.0):\n",
    "        super(SimpleAutoencoderModel, self).__init__(reg_lambda)\n",
    "        \n",
    "    @tt.utils.attr.override\n",
    "    def inference(self, inputs, targets, is_training=True,\n",
    "                  device_scope=None, memory_device=None):\n",
    "        input_shape = inputs.get_shape()\n",
    "        x = tf.contrib.layers.flatten(inputs)\n",
    "        encoded = tt.network.fc(\"FC_Enc\", x, 64,\n",
    "                                weight_init=tf.contrib.layers.xavier_initializer(),\n",
    "                                bias_init=0.0,\n",
    "                                activation=tf.nn.relu,\n",
    "                                device=memory_device)\n",
    "        representation = encoded\n",
    "        decoded = tt.network.fc(\"FC_Dec\", representation, x.get_shape()[1],\n",
    "                                weight_init=tf.contrib.layers.xavier_initializer(),\n",
    "                                bias_init=0.0,\n",
    "                                activation=tf.nn.sigmoid,\n",
    "                                device=memory_device)\n",
    "\n",
    "        return tf.reshape(decoded, [-1] + [int(x) for x in input_shape[1:]])\n",
    "    \n",
    "    @tt.utils.attr.override\n",
    "    def loss(self, predictions, targets):\n",
    "        return tt.loss.mse(predictions, targets)"
   ]
  },
  {
   "cell_type": "code",
   "execution_count": null,
   "metadata": {
    "collapsed": false
   },
   "outputs": [],
   "source": [
    "runtime = tt.core.DefaultRuntime()\n",
    "#runtime = tt.core.MultiGpuRuntime(NUM_GPUS)\n",
    "runtime.register_datasets(dataset_train, dataset_valid)\n",
    "runtime.register_model(SimpleAutoencoderModel(reg_lambda=REG_LAMBDA))\n",
    "runtime.build(INITIAL_LR,\n",
    "              LR_DECAY_STEP_INTERVAL,\n",
    "              LR_DECAY_FACTOR,\n",
    "              is_autoencoder=True)"
   ]
  },
  {
   "cell_type": "code",
   "execution_count": null,
   "metadata": {
    "collapsed": false
   },
   "outputs": [],
   "source": [
    "runtime.train(BATCH_SIZE, steps=1000)"
   ]
  },
  {
   "cell_type": "code",
   "execution_count": null,
   "metadata": {
    "collapsed": false
   },
   "outputs": [],
   "source": [
    "runtime.validate(batch_size=50)"
   ]
  },
  {
   "cell_type": "code",
   "execution_count": null,
   "metadata": {
    "collapsed": false
   },
   "outputs": [],
   "source": [
    "runtime.test(batch_size=50)"
   ]
  },
  {
   "cell_type": "code",
   "execution_count": null,
   "metadata": {
    "collapsed": false
   },
   "outputs": [],
   "source": [
    "image_shape = dataset_train.input_shape\n",
    "if len(image_shape) == 4: # MovingMNIST / UCF11\n",
    "    fake_input_batch = np.random.rand(6,1,image_shape[-3],image_shape[-2],image_shape[-1])\n",
    "else: # MNIST\n",
    "    fake_input_batch = np.random.rand(6,image_shape[-3],image_shape[-2],image_shape[-1])\n",
    "predictions = runtime.predict(fake_input_batch)\n",
    "\n",
    "print(predictions.shape)\n",
    "\n",
    "print(fake_input_batch.min(), fake_input_batch.max())\n",
    "print(predictions.min(), predictions.max())\n",
    "\n",
    "tt.visualization.display_batch((fake_input_batch + 1) * 127.5, title=\"Inputs\")\n",
    "tt.visualization.display_batch(predictions * 255, title=\"Predictions\")"
   ]
  },
  {
   "cell_type": "code",
   "execution_count": null,
   "metadata": {
    "collapsed": false
   },
   "outputs": [],
   "source": [
    "runtime.close()"
   ]
  },
  {
   "cell_type": "code",
   "execution_count": null,
   "metadata": {
    "collapsed": true
   },
   "outputs": [],
   "source": []
  }
 ],
 "metadata": {
  "kernelspec": {
   "display_name": "Python 2",
   "language": "python",
   "name": "python2"
  },
  "language_info": {
   "codemirror_mode": {
    "name": "ipython",
    "version": 2
   },
   "file_extension": ".py",
   "mimetype": "text/x-python",
   "name": "python",
   "nbconvert_exporter": "python",
   "pygments_lexer": "ipython2",
   "version": "2.7.6"
  }
 },
 "nbformat": 4,
 "nbformat_minor": 0
}
