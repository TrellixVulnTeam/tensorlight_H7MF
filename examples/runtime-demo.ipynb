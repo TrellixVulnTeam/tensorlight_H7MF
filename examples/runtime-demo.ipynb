{
 "cells": [
  {
   "cell_type": "markdown",
   "metadata": {},
   "source": [
    "# TensorLight Runtime Demo\n",
    "\n",
    "Demonstrates the usage of the runtime using a simple autoencoder model."
   ]
  },
  {
   "cell_type": "code",
   "execution_count": null,
   "metadata": {
    "collapsed": true
   },
   "outputs": [],
   "source": [
    "# Force matplotlib to use inline rendering\n",
    "%matplotlib inline\n",
    "\n",
    "import os\n",
    "import sys\n",
    "\n",
    "# add path to libraries for ipython\n",
    "sys.path.append(os.path.expanduser(\"~/libs\"))\n",
    "\n",
    "import numpy as np\n",
    "import tensorflow as tf\n",
    "import tensorlight as light"
   ]
  },
  {
   "cell_type": "code",
   "execution_count": null,
   "metadata": {
    "collapsed": true
   },
   "outputs": [],
   "source": [
    "TRAIN_DIR = \"train-examples/runtime-demo\"\n",
    "\n",
    "BATCH_SIZE = 24\n",
    "WEIGHT_DECAY = 5e-4\n",
    "INITIAL_LR = 0.001\n",
    "LR_DECAY_STEP_INTERVAL = 10000\n",
    "LR_DECAY_RATE = 0.5"
   ]
  },
  {
   "cell_type": "code",
   "execution_count": null,
   "metadata": {
    "collapsed": true
   },
   "outputs": [],
   "source": [
    "DATA_ROOT = \"data\"\n",
    "dataset_train = light.datasets.mnist.MNISTTrainDataset(DATA_ROOT)\n",
    "dataset_valid = light.datasets.mnist.MNISTValidDataset(DATA_ROOT)\n",
    "dataset_test = light.datasets.mnist.MNISTTestDataset(DATA_ROOT)"
   ]
  },
  {
   "cell_type": "markdown",
   "metadata": {},
   "source": [
    "### Model"
   ]
  },
  {
   "cell_type": "code",
   "execution_count": null,
   "metadata": {
    "collapsed": true
   },
   "outputs": [],
   "source": [
    "class SimpleAutoencoderModel(light.model.AbstractModel):    \n",
    "    def __init__(self, weight_decay=0.0):\n",
    "        super(SimpleAutoencoderModel, self).__init__(weight_decay)\n",
    "        \n",
    "    @light.utils.attr.override\n",
    "    def inference(self, inputs, targets, feeds,\n",
    "                  is_training, device_scope, memory_device):\n",
    "        x = tf.contrib.layers.flatten(inputs)\n",
    "        encoded = light.network.fc(\"FC_Enc\", x, 64,\n",
    "                                weight_init=tf.contrib.layers.xavier_initializer(),\n",
    "                                bias_init=0.0,\n",
    "                                regularizer=tf.contrib.layers.regularizers.l2_regularizer(self.weight_decay),\n",
    "                                activation=tf.nn.relu,\n",
    "                                device=memory_device)\n",
    "        representation = encoded\n",
    "        decoded = light.network.fc(\"FC_Dec\", representation, x.get_shape()[1],\n",
    "                                weight_init=tf.contrib.layers.xavier_initializer(),\n",
    "                                bias_init=0.0,\n",
    "                                regularizer=tf.contrib.layers.regularizers.l2_regularizer(self.weight_decay),\n",
    "                                activation=tf.nn.sigmoid,\n",
    "                                device=memory_device)\n",
    "\n",
    "        return tf.reshape(decoded, [-1] + targets.get_shape().as_list()[1:])\n",
    "    \n",
    "    @light.utils.attr.override\n",
    "    def loss(self, predictions, targets, device_scope):\n",
    "        loss1 = light.loss.mse(predictions, targets)\n",
    "        loss2 = light.loss.bce(predictions, targets)\n",
    "        \n",
    "        tf.add_to_collection(light.core.LOG_LOSSES, loss1)\n",
    "        tf.add_to_collection(light.core.LOG_LOSSES, loss2)\n",
    "        \n",
    "        return tf.add(0.5 * loss1, 0.5 * loss2, name=\"25mse_75bce\")\n",
    "    \n",
    "    @light.utils.attr.override\n",
    "    def evaluation(self, predictions, targets, device_scope=None):\n",
    "        psnr = light.image.psnr(predictions, targets)\n",
    "        sharpdiff = light.image.sharp_diff(predictions, targets)\n",
    "        ssim = light.image.ssim(predictions, targets, L=1.0)\n",
    "        \n",
    "        return {\"psnr\": psnr, \"sharpdiff\": sharpdiff, \"ssim\": ssim}"
   ]
  },
  {
   "cell_type": "code",
   "execution_count": null,
   "metadata": {
    "collapsed": true
   },
   "outputs": [],
   "source": [
    "class SimpleFullyConvolutionalAutoencoderModel(light.model.AbstractModel):    \n",
    "    def __init__(self, weight_decay=0.0):\n",
    "        super(SimpleFullyConvolutionalAutoencoderModel, self).__init__(weight_decay)\n",
    "        \n",
    "    @light.utils.attr.override\n",
    "    def inference(self, inputs, targets, feeds,\n",
    "                  is_training, device_scope, memory_device):\n",
    "        \n",
    "        with tf.variable_scope(\"Encoder\"):\n",
    "            # 1: Conv\n",
    "            conv1 = light.network.conv2d(\"Conv1\", inputs,\n",
    "                                      8, (5, 5), (2, 2),\n",
    "                                      weight_init=tf.contrib.layers.xavier_initializer_conv2d(),\n",
    "                                      bias_init=0.01,\n",
    "                                      regularizer=tf.contrib.layers.l2_regularizer(self.weight_decay),\n",
    "                                      activation=tf.nn.relu)\n",
    "            \n",
    "            # test-summary for the fist conv-layer:\n",
    "            light.board.activation_summary(conv1, True, scope=\"Conv1\")\n",
    "            light.board.conv_image_summary(\"conv1_out\", conv1)\n",
    "    \n",
    "            with tf.variable_scope(\"Conv1\", reuse=True):\n",
    "                # hack to access the kernel-weights\n",
    "                kernel = tf.get_variable(\"W\")\n",
    "                light.board.conv_filter_image_summary(\"conv1_filters\", kernel)\n",
    "            \n",
    "            # 2: Conv\n",
    "            conv2 = light.network.conv2d(\"Conv2\", conv1,\n",
    "                                      16, (3, 3), (2, 2),\n",
    "                                      weight_init=tf.contrib.layers.xavier_initializer_conv2d(),\n",
    "                                      bias_init=0.01,\n",
    "                                      regularizer=tf.contrib.layers.l2_regularizer(self.weight_decay),\n",
    "                                      activation=tf.nn.relu)\n",
    "            encoder_out = conv2\n",
    "\n",
    "        with tf.variable_scope(\"Decoder\"):\n",
    "            # 3: Deconv\n",
    "            conv3t = light.network.conv2d_transpose(\"Deconv1\", encoder_out,\n",
    "                                                 8, (3, 3), (2, 2),\n",
    "                                                 weight_init=light.init.bilinear_initializer(),\n",
    "                                                 bias_init=0.01,\n",
    "                                                 regularizer=tf.contrib.layers.l2_regularizer(self.weight_decay),\n",
    "                                                 activation=tf.nn.relu)\n",
    "            # 4: Deconv\n",
    "            conv4t = light.network.conv2d_transpose(\"Deconv2\", conv3t,\n",
    "                                                 1, (5, 5), (2, 2),\n",
    "                                                 weight_init=light.init.bilinear_initializer(), \n",
    "                                                 bias_init=0.01,\n",
    "                                                 regularizer=tf.contrib.layers.l2_regularizer(self.weight_decay),\n",
    "                                                 activation=tf.nn.sigmoid)\n",
    "            decoder_out = conv4t\n",
    "            \n",
    "        return decoder_out\n",
    "    \n",
    "    @light.utils.attr.override\n",
    "    def loss(self, predictions, targets, device_scope):\n",
    "        return light.loss.bce(predictions, targets) + light.loss.mgdl(predictions, targets)\n",
    "    \n",
    "    @light.utils.attr.override\n",
    "    def evaluation(self, predictions, targets, device_scope=None):\n",
    "        psnr = light.image.psnr(predictions, targets)\n",
    "        sharpdiff = light.image.sharp_diff(predictions, targets)\n",
    "        ssim = light.image.ssim(predictions, targets, L=1.0)\n",
    "        \n",
    "        return {\"psnr\": psnr, \"sharpdiff\": sharpdiff, \"ssim\": ssim}"
   ]
  },
  {
   "cell_type": "markdown",
   "metadata": {},
   "source": [
    "### Runtime"
   ]
  },
  {
   "cell_type": "code",
   "execution_count": null,
   "metadata": {
    "collapsed": true
   },
   "outputs": [],
   "source": [
    "runtime = light.core.DefaultRuntime(train_dir=TRAIN_DIR, gpu_devices=[4])\n",
    "#runtime = light.core.MultiGpuRuntime(train_dir=TRAIN_DIR, gpu_devices=[0, 1])"
   ]
  },
  {
   "cell_type": "code",
   "execution_count": null,
   "metadata": {
    "collapsed": true
   },
   "outputs": [],
   "source": [
    "model = SimpleAutoencoderModel(weight_decay=WEIGHT_DECAY)\n",
    "#model = SimpleFullyConvolutionalAutoencoderModel(weight_decay=WEIGHT_DECAY)\n",
    "model.print_params()\n",
    "runtime.register_model(model)"
   ]
  },
  {
   "cell_type": "code",
   "execution_count": null,
   "metadata": {
    "collapsed": true
   },
   "outputs": [],
   "source": [
    "optimizer = light.training.Optimizer('adam', INITIAL_LR,\n",
    "                                  LR_DECAY_STEP_INTERVAL, LR_DECAY_RATE)\n",
    "optimizer.print_params()\n",
    "runtime.register_optimizer(optimizer)"
   ]
  },
  {
   "cell_type": "code",
   "execution_count": null,
   "metadata": {
    "collapsed": true
   },
   "outputs": [],
   "source": [
    "runtime.register_datasets(dataset_train, dataset_valid, dataset_test)"
   ]
  },
  {
   "cell_type": "code",
   "execution_count": null,
   "metadata": {
    "collapsed": true
   },
   "outputs": [],
   "source": [
    "runtime.build(is_autoencoder=True, verbose=True)\n",
    "print(\"Starting with global step: {}\".format(runtime.gstep))"
   ]
  },
  {
   "cell_type": "code",
   "execution_count": null,
   "metadata": {
    "collapsed": true
   },
   "outputs": [],
   "source": [
    "runtime.list_params()"
   ]
  },
  {
   "cell_type": "markdown",
   "metadata": {},
   "source": [
    "### Training"
   ]
  },
  {
   "cell_type": "code",
   "execution_count": null,
   "metadata": {
    "collapsed": true
   },
   "outputs": [],
   "source": [
    "def on_valid(rt, gstep):\n",
    "    print (\"On-Validate Hook...\")"
   ]
  },
  {
   "cell_type": "code",
   "execution_count": null,
   "metadata": {
    "collapsed": true
   },
   "outputs": [],
   "source": [
    "runtime.train(BATCH_SIZE, steps=1000, on_validate=on_valid,\n",
    "              display_steps=25, do_summary=False, do_checkpoints=True)"
   ]
  },
  {
   "cell_type": "code",
   "execution_count": null,
   "metadata": {
    "collapsed": true
   },
   "outputs": [],
   "source": [
    "runtime.validate(batch_size=50)"
   ]
  },
  {
   "cell_type": "code",
   "execution_count": null,
   "metadata": {
    "collapsed": true
   },
   "outputs": [],
   "source": [
    "runtime.test(batch_size=50)"
   ]
  },
  {
   "cell_type": "markdown",
   "metadata": {},
   "source": [
    "## Visualization / Prediciton"
   ]
  },
  {
   "cell_type": "code",
   "execution_count": null,
   "metadata": {
    "collapsed": true
   },
   "outputs": [],
   "source": [
    "def show(inputs, predictions):\n",
    "    print(\"Inputs-Range : [{}, {}]\".format(inputs.min(), inputs.max()))\n",
    "    print(\"Targets-Range: [{}, {}]\".format(predictions.min(), predictions.max()))\n",
    "\n",
    "    light.visualization.display_batch(inputs, title=\"Inputs\")\n",
    "    light.visualization.display_batch(predictions, title=\"Predictions\")"
   ]
  },
  {
   "cell_type": "markdown",
   "metadata": {},
   "source": [
    "#### Use random input of same size as in training:"
   ]
  },
  {
   "cell_type": "code",
   "execution_count": null,
   "metadata": {
    "collapsed": true
   },
   "outputs": [],
   "source": [
    "image_shape = dataset_train.input_shape\n",
    "fake_inputs = np.random.rand(4,image_shape[-3],image_shape[-2],image_shape[-1])\n",
    "\n",
    "predictions = runtime.predict(fake_inputs)\n",
    "\n",
    "show(fake_inputs, predictions)"
   ]
  },
  {
   "cell_type": "code",
   "execution_count": null,
   "metadata": {
    "collapsed": true
   },
   "outputs": [],
   "source": [
    "inputs, _ = dataset_train.get_batch(4)\n",
    "\n",
    "predictions = runtime.predict(inputs)\n",
    "\n",
    "show(inputs, predictions)"
   ]
  },
  {
   "cell_type": "markdown",
   "metadata": {},
   "source": [
    "#### Use random image bigger than in training:"
   ]
  },
  {
   "cell_type": "code",
   "execution_count": null,
   "metadata": {
    "collapsed": true
   },
   "outputs": [],
   "source": [
    "SIZE_FACTOR = 2.0\n",
    "image_shape = dataset_train.input_shape\n",
    "changed_height = int(image_shape[-3] * SIZE_FACTOR)\n",
    "changed_width = int(image_shape[-2] * SIZE_FACTOR)\n",
    "channels = image_shape[-1]\n",
    "print(\"Changed-Shape: [{}, {}, {}]\".format(changed_height, changed_width, channels))"
   ]
  },
  {
   "cell_type": "code",
   "execution_count": null,
   "metadata": {
    "collapsed": true
   },
   "outputs": [],
   "source": [
    "runtime.unregister_datasets()\n",
    "runtime.build(is_autoencoder=True, track_ema_variables=False, restore_ema_variables=True,\n",
    "              input_shape=[changed_height, changed_width, channels])"
   ]
  },
  {
   "cell_type": "code",
   "execution_count": null,
   "metadata": {
    "collapsed": true
   },
   "outputs": [],
   "source": [
    "fake_inputs = np.random.rand(4, changed_height, changed_width, channels)\n",
    "    \n",
    "predictions = runtime.predict(fake_inputs)\n",
    "\n",
    "show(fake_inputs, predictions)"
   ]
  },
  {
   "cell_type": "code",
   "execution_count": null,
   "metadata": {
    "collapsed": true
   },
   "outputs": [],
   "source": [
    "inputs, _ = dataset_train.get_batch(4)\n",
    "# pad to have full shape\n",
    "inputs = light.utils.image.pad_or_crop(inputs, [changed_height, changed_width, channels])\n",
    "\n",
    "print(inputs.shape)\n",
    "\n",
    "predictions = runtime.predict(inputs)\n",
    "\n",
    "show(inputs, predictions)"
   ]
  },
  {
   "cell_type": "code",
   "execution_count": null,
   "metadata": {
    "collapsed": true
   },
   "outputs": [],
   "source": [
    "inputs, _ = dataset_train.get_batch(1)\n",
    "# pad to have full shape\n",
    "scaled = light.utils.image.resize(inputs[0], scale=SIZE_FACTOR)\n",
    "scaled = np.expand_dims(scaled, 0)\n",
    "\n",
    "print(scaled.shape)\n",
    "\n",
    "predictions = runtime.predict(scaled)\n",
    "\n",
    "show(scaled, predictions)"
   ]
  },
  {
   "cell_type": "code",
   "execution_count": null,
   "metadata": {
    "collapsed": true
   },
   "outputs": [],
   "source": [
    "runtime.close()"
   ]
  },
  {
   "cell_type": "code",
   "execution_count": null,
   "metadata": {
    "collapsed": true
   },
   "outputs": [],
   "source": []
  }
 ],
 "metadata": {
  "kernelspec": {
   "display_name": "Python 2",
   "language": "python",
   "name": "python2"
  },
  "language_info": {
   "codemirror_mode": {
    "name": "ipython",
    "version": 2
   },
   "file_extension": ".py",
   "mimetype": "text/x-python",
   "name": "python",
   "nbconvert_exporter": "python",
   "pygments_lexer": "ipython2",
   "version": "2.7.12"
  }
 },
 "nbformat": 4,
 "nbformat_minor": 1
}
