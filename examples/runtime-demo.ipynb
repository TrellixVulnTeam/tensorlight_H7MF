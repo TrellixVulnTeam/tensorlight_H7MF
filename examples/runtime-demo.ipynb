{
 "cells": [
  {
   "cell_type": "markdown",
   "metadata": {},
   "source": [
    "# TensorTools Runtime Demo\n",
    "\n",
    "Demonstrates the usage of the runtime using a simple autoencoder model."
   ]
  },
  {
   "cell_type": "code",
   "execution_count": null,
   "metadata": {
    "collapsed": false
   },
   "outputs": [],
   "source": [
    "# Force matplotlib to use inline rendering\n",
    "%matplotlib inline\n",
    "\n",
    "import os\n",
    "import sys\n",
    "\n",
    "# add path to libraries for ipython\n",
    "sys.path.append(os.path.expanduser(\"~/libs\"))\n",
    "\n",
    "import numpy as np\n",
    "import tensorflow as tf\n",
    "import tensortools as tt"
   ]
  },
  {
   "cell_type": "code",
   "execution_count": null,
   "metadata": {
    "collapsed": true
   },
   "outputs": [],
   "source": [
    "BATCH_SIZE = 24\n",
    "REG_LAMBDA = 5e-4\n",
    "NUM_GPUS = 2"
   ]
  },
  {
   "cell_type": "code",
   "execution_count": null,
   "metadata": {
    "collapsed": false
   },
   "outputs": [],
   "source": [
    "dataset_train = tt.datasets.moving_mnist.MovingMNISTTrainDataset(BATCH_SIZE * NUM_GPUS,\n",
    "                                                                 1)\n",
    "dataset_valid = tt.datasets.moving_mnist.MovingMNISTValidDataset(BATCH_SIZE * NUM_GPUS,\n",
    "                                                                 1)\n",
    "#dataset_test = tt.datasets.moving_mnist.MovingMNISTTestDataset(BATCH_SIZE * NUM_GPUS,\n",
    "#                                                               1)"
   ]
  },
  {
   "cell_type": "code",
   "execution_count": null,
   "metadata": {
    "collapsed": false
   },
   "outputs": [],
   "source": [
    "class SimpleAutoencoderModel(tt.model.AbstractModel):\n",
    "    \"\"\"Simple neuronal autoencoder.\n",
    "    \"\"\"\n",
    "    def __init__(self, inputs, targets, reg_lambda,\n",
    "                 scope=None, is_training=False):\n",
    "        self._scope = scope  # TODO: move to base class (call is device scope?)\n",
    "        self._is_training = is_training  # TODO: move to base class\n",
    "        super(SimpleAutoencoderModel, self).__init__(inputs, targets, reg_lambda)\n",
    "    \n",
    "    @tt.utils.attr.lazy_property\n",
    "    def predictions(self):\n",
    "        x = tf.contrib.layers.flatten(self._inputs)\n",
    "        encoded = tt.network.fc(\"FC_Enc\", x, 32,\n",
    "                                weight_init=tf.contrib.layers.xavier_initializer(),\n",
    "                                bias_init=0.0)\n",
    "        representation = encoded\n",
    "        decoded = tt.network.fc(\"FC_Dec\", representation, self.input_shape[1] * self.input_shape[2] * self.input_shape[3],\n",
    "                                weight_init=tf.contrib.layers.xavier_initializer(),\n",
    "                                bias_init=0.0)\n",
    "        \n",
    "        return tf.reshape(decoded, [-1, 1, self.input_shape[1], self.input_shape[2], self.input_shape[3]])\n",
    "\n",
    "    @tt.utils.attr.lazy_property\n",
    "    def loss(self):\n",
    "        return tt.loss.bce(self.predictions, self._targets)"
   ]
  },
  {
   "cell_type": "code",
   "execution_count": null,
   "metadata": {
    "collapsed": false
   },
   "outputs": [],
   "source": [
    "runtime = tt.core.MultiGpuRuntime()\n",
    "runtime.register_datasets(dataset_train, dataset_valid)\n",
    "runtime.register_model(\n",
    "    lambda x, y, scope, is_training : SimpleAutoencoderModel(x, y,\n",
    "                                                             reg_lambda=REG_LAMBDA,\n",
    "                                                             scope=scope,\n",
    "                                                             is_training=is_training))\n",
    "runtime.setup_feeding(tt.core.FEEDING_AUTOENCODER)\n",
    "runtime.build()"
   ]
  },
  {
   "cell_type": "code",
   "execution_count": null,
   "metadata": {
    "collapsed": false
   },
   "outputs": [],
   "source": [
    "runtime.train(max_steps=500)"
   ]
  },
  {
   "cell_type": "code",
   "execution_count": null,
   "metadata": {
    "collapsed": true
   },
   "outputs": [],
   "source": [
    "runtime.close()"
   ]
  },
  {
   "cell_type": "code",
   "execution_count": null,
   "metadata": {
    "collapsed": true
   },
   "outputs": [],
   "source": []
  }
 ],
 "metadata": {
  "kernelspec": {
   "display_name": "Python 2",
   "language": "python",
   "name": "python2"
  },
  "language_info": {
   "codemirror_mode": {
    "name": "ipython",
    "version": 2
   },
   "file_extension": ".py",
   "mimetype": "text/x-python",
   "name": "python",
   "nbconvert_exporter": "python",
   "pygments_lexer": "ipython2",
   "version": "2.7.6"
  }
 },
 "nbformat": 4,
 "nbformat_minor": 0
}
