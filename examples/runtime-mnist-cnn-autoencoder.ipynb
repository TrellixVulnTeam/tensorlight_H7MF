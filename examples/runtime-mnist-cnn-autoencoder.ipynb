{
 "cells": [
  {
   "cell_type": "markdown",
   "metadata": {},
   "source": [
    "# Runtime MNIST CNN Autoencoder Example\n",
    "Uses Conv2D and Deconv2D operations to create a simple auto-encoder. In this example, it is possible that it learns the trivial function. It's intention is more to see how the *tt.network.conv2d_transpose()* function works.\n",
    "\n",
    "An image scale of [0, 1] is used here."
   ]
  },
  {
   "cell_type": "code",
   "execution_count": null,
   "metadata": {
    "collapsed": false
   },
   "outputs": [],
   "source": [
    "# Force matplotlib to use inline rendering\n",
    "%matplotlib inline\n",
    "\n",
    "import os\n",
    "import sys\n",
    "\n",
    "# add path to libraries for ipython\n",
    "sys.path.append(os.path.expanduser(\"~/libs\"))\n",
    "\n",
    "import numpy as np\n",
    "import tensorflow as tf\n",
    "import tensortools as tt"
   ]
  },
  {
   "cell_type": "code",
   "execution_count": null,
   "metadata": {
    "collapsed": true
   },
   "outputs": [],
   "source": [
    "BATCH_SIZE = 16\n",
    "REG_LAMBDA = 5e-4\n",
    "INITIAL_LR = 0.005\n",
    "LR_DECAY_STEP_INTERVAL = 10000\n",
    "LR_DECAY_FACTOR = 0.5"
   ]
  },
  {
   "cell_type": "code",
   "execution_count": null,
   "metadata": {
    "collapsed": false
   },
   "outputs": [],
   "source": [
    "dataset_train = tt.datasets.mnist.MNISTTrainDataset()\n",
    "dataset_valid = tt.datasets.mnist.MNISTValidDataset()\n",
    "dataset_test = tt.datasets.mnist.MNISTTestDataset()"
   ]
  },
  {
   "cell_type": "markdown",
   "metadata": {},
   "source": [
    "### Model"
   ]
  },
  {
   "cell_type": "code",
   "execution_count": null,
   "metadata": {
    "collapsed": false,
    "scrolled": true
   },
   "outputs": [],
   "source": [
    "class SimpleCNNAutoencoderModel(tt.model.AbstractModel):    \n",
    "    def __init__(self, reg_lambda=0.0):\n",
    "        super(SimpleCNNAutoencoderModel, self).__init__(reg_lambda)\n",
    "        \n",
    "    @tt.utils.attr.override\n",
    "    def inference(self, inputs, targets, is_training=True,\n",
    "                  device_scope=None, memory_device=None):\n",
    "        with tf.variable_scope(\"Encoder\"):\n",
    "            # 1: Conv\n",
    "            conv1 = tt.network.conv2d(\"Conv1\", inputs,\n",
    "                                      4, (3, 3), (2, 2),\n",
    "                                      weight_init=tf.contrib.layers.xavier_initializer_conv2d(),\n",
    "                                      bias_init=0.1,\n",
    "                                      regularizer=tf.contrib.layers.l2_regularizer(self.reg_lambda),\n",
    "                                      activation=tf.nn.relu)\n",
    "\n",
    "            # 2: Conv\n",
    "            conv2 = tt.network.conv2d(\"Conv2\", conv1,\n",
    "                                      4, (3, 3), (2, 2),\n",
    "                                      weight_init=tf.contrib.layers.xavier_initializer_conv2d(),\n",
    "                                      bias_init=0.1,\n",
    "                                      regularizer=tf.contrib.layers.l2_regularizer(self.reg_lambda),\n",
    "                                      activation=tf.nn.relu)\n",
    "            encoder_out = conv2\n",
    "\n",
    "        with tf.variable_scope(\"Decoder\"):\n",
    "            # 3: Deconv\n",
    "            conv3t = tt.network.conv2d_transpose(\"Deconv1\", encoder_out,\n",
    "                                                 4, (3, 3), (2, 2),\n",
    "                                                 weight_init=tt.init.bilinear_initializer(),\n",
    "                                                 bias_init=0.1,\n",
    "                                                 regularizer=tf.contrib.layers.l2_regularizer(self.reg_lambda),\n",
    "                                                 activation=tf.nn.relu)\n",
    "\n",
    "            # 4: Deconv\n",
    "            conv4t = tt.network.conv2d_transpose(\"Deconv2\", conv3t,\n",
    "                                                 1, (3, 3), (2, 2),\n",
    "                                                 weight_init=tt.init.bilinear_initializer(), \n",
    "                                                 bias_init=0.1,\n",
    "                                                 regularizer=tf.contrib.layers.l2_regularizer(self.reg_lambda),\n",
    "                                                 activation=tf.nn.sigmoid)\n",
    "            decoder_out = conv4t\n",
    "        return decoder_out\n",
    "    \n",
    "    @tt.utils.attr.override\n",
    "    def loss(self, predictions, targets):\n",
    "        return tt.loss.bce(predictions, targets)"
   ]
  },
  {
   "cell_type": "markdown",
   "metadata": {},
   "source": [
    "### Training"
   ]
  },
  {
   "cell_type": "code",
   "execution_count": null,
   "metadata": {
    "collapsed": false
   },
   "outputs": [],
   "source": [
    "runtime = tt.core.DefaultRuntime()\n",
    "runtime.register_datasets(dataset_train, dataset_valid, dataset_test)\n",
    "runtime.register_model(SimpleCNNAutoencoderModel(reg_lambda=REG_LAMBDA))\n",
    "runtime.build(INITIAL_LR,\n",
    "              LR_DECAY_STEP_INTERVAL,\n",
    "              LR_DECAY_FACTOR,\n",
    "              is_autoencoder=True)"
   ]
  },
  {
   "cell_type": "code",
   "execution_count": null,
   "metadata": {
    "collapsed": false
   },
   "outputs": [],
   "source": [
    "runtime.train(batch_size=BATCH_SIZE, steps=3000, do_checkpoints=False, do_summary=False)"
   ]
  },
  {
   "cell_type": "markdown",
   "metadata": {
    "collapsed": true
   },
   "source": [
    "### Evaluation"
   ]
  },
  {
   "cell_type": "code",
   "execution_count": null,
   "metadata": {
    "collapsed": false
   },
   "outputs": [],
   "source": [
    "x, _ = dataset_valid.get_batch(4)\n",
    "\n",
    "tt.visualization.display_batch(x * 255, nrows=2, ncols=2, title=\"Input\")\n",
    "\n",
    "pred = runtime.predict(x)\n",
    "\n",
    "tt.visualization.display_batch(pred * 255, nrows=2, ncols=2, title=\"Reconstruction\")"
   ]
  },
  {
   "cell_type": "markdown",
   "metadata": {
    "collapsed": true
   },
   "source": [
    "### Terminate"
   ]
  },
  {
   "cell_type": "code",
   "execution_count": null,
   "metadata": {
    "collapsed": true
   },
   "outputs": [],
   "source": [
    "runtime.close()"
   ]
  }
 ],
 "metadata": {
  "kernelspec": {
   "display_name": "Python 2",
   "language": "python",
   "name": "python2"
  },
  "language_info": {
   "codemirror_mode": {
    "name": "ipython",
    "version": 2
   },
   "file_extension": ".py",
   "mimetype": "text/x-python",
   "name": "python",
   "nbconvert_exporter": "python",
   "pygments_lexer": "ipython2",
   "version": "2.7.6"
  }
 },
 "nbformat": 4,
 "nbformat_minor": 0
}
