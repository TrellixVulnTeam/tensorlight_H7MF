{
 "cells": [
  {
   "cell_type": "markdown",
   "metadata": {},
   "source": [
    "# MNIST CNN Example\n",
    "Adapted from [TensorFlow: Deep MNIST for Experts](https://www.tensorflow.org/tutorials/mnist/pros/index.html)."
   ]
  },
  {
   "cell_type": "code",
   "execution_count": null,
   "metadata": {
    "collapsed": false
   },
   "outputs": [],
   "source": [
    "import os\n",
    "import sys\n",
    "\n",
    "# add path to libraries for ipython\n",
    "sys.path.append(os.path.expanduser(\"~/libs\"))\n",
    "\n",
    "import numpy as np\n",
    "import tensorflow as tf\n",
    "import tensortools as tt"
   ]
  },
  {
   "cell_type": "code",
   "execution_count": null,
   "metadata": {
    "collapsed": true
   },
   "outputs": [],
   "source": [
    "BATCH_SIZE = 50\n",
    "MAX_STEPS = 2000\n",
    "DROPOUT = 0.5"
   ]
  },
  {
   "cell_type": "code",
   "execution_count": null,
   "metadata": {
    "collapsed": false
   },
   "outputs": [],
   "source": [
    "from tensorflow.examples.tutorials.mnist import input_data\n",
    "mnist = input_data.read_data_sets('MNIST_data', one_hot=True)"
   ]
  },
  {
   "cell_type": "code",
   "execution_count": null,
   "metadata": {
    "collapsed": false
   },
   "outputs": [],
   "source": [
    "sess = tf.InteractiveSession()"
   ]
  },
  {
   "cell_type": "code",
   "execution_count": null,
   "metadata": {
    "collapsed": false
   },
   "outputs": [],
   "source": [
    "x = tf.placeholder(tf.float32, [None, 784], \"X\")\n",
    "y_ = tf.placeholder(tf.float32, [None, 10], \"Y_\")\n",
    "\n",
    "x_image = tf.reshape(x, [-1,28,28,1])\n",
    "\n",
    "# Conv1\n",
    "conv1 = tt.network.conv2d(x_image,\n",
    "                          32, 5, 5, 1, 1,\n",
    "                          stddev=0.02, bias=0.1,\n",
    "                          activation=tf.nn.relu, name=\"Conv1\")\n",
    "h_pool1 = tt.network.max_pool(conv1, 2, 2, 2, 2, name=\"MaxPool1\")\n",
    "\n",
    "# Conv2\n",
    "conv2 = tt.network.conv2d(h_pool1,\n",
    "                          64, 5, 5, 1, 1,\n",
    "                          stddev=0.02, bias=0.1,\n",
    "                          activation=tf.nn.relu, name=\"Conv2\")\n",
    "h_pool2 = tt.network.max_pool(conv2, 2, 2, 2, 2, name=\"MaxPool2\")\n",
    "\n",
    "# FC\n",
    "h_pool2_flat = tf.reshape(h_pool2, [-1, 7*7*64])\n",
    "h_fc1 = tt.network.linear(h_pool2_flat, 1024,\n",
    "                          \"FC\", stddev=0.02, bias=0.1,\n",
    "                          activation=tf.nn.relu)\n",
    "\n",
    "keep_prob = tf.placeholder(tf.float32)\n",
    "h_fc1_drop = tf.nn.dropout(h_fc1, keep_prob)\n",
    "\n",
    "# Output\n",
    "y_conv=tf.nn.softmax(tt.network.linear(h_fc1_drop, 10,\n",
    "                                       \"Output\", stddev=0.02, bias=0.1))"
   ]
  },
  {
   "cell_type": "code",
   "execution_count": null,
   "metadata": {
    "collapsed": false
   },
   "outputs": [],
   "source": [
    "cross_entropy = tf.reduce_mean(-tf.reduce_sum(y_ * tf.log(y_conv), reduction_indices=[1]))\n",
    "train_step = tf.train.AdamOptimizer(1e-4).minimize(cross_entropy)\n",
    "correct_prediction = tf.equal(tf.argmax(y_conv,1), tf.argmax(y_,1))\n",
    "accuracy = tf.reduce_mean(tf.cast(correct_prediction, tf.float32))\n",
    "sess.run(tf.initialize_all_variables())"
   ]
  },
  {
   "cell_type": "code",
   "execution_count": null,
   "metadata": {
    "collapsed": false
   },
   "outputs": [],
   "source": [
    "tt.visualization.show_graph(sess.graph_def)"
   ]
  },
  {
   "cell_type": "code",
   "execution_count": null,
   "metadata": {
    "collapsed": false
   },
   "outputs": [],
   "source": [
    "for i in range(MAX_STEPS):\n",
    "    batch = mnist.train.next_batch(BATCH_SIZE)\n",
    "    if i%100 == 0:\n",
    "        train_accuracy = accuracy.eval(feed_dict={\n",
    "                                       x:batch[0],\n",
    "                                       y_: batch[1],\n",
    "                                       keep_prob: 1.0})\n",
    "        print(\"step %d, training accuracy %g\" % (i, train_accuracy))\n",
    "    \n",
    "    train_step.run(feed_dict={x: batch[0], y_: batch[1], keep_prob: DROPOUT})\n",
    "\n",
    "print(\"test accuracy %g\" % accuracy.eval(feed_dict={\n",
    "                                         x: mnist.test.images[:1000],\n",
    "                                         y_: mnist.test.labels[:1000],\n",
    "                                         keep_prob: 1.0}))"
   ]
  },
  {
   "cell_type": "code",
   "execution_count": null,
   "metadata": {
    "collapsed": true
   },
   "outputs": [],
   "source": []
  }
 ],
 "metadata": {
  "kernelspec": {
   "display_name": "Python 2",
   "language": "python",
   "name": "python2"
  },
  "language_info": {
   "codemirror_mode": {
    "name": "ipython",
    "version": 2
   },
   "file_extension": ".py",
   "mimetype": "text/x-python",
   "name": "python",
   "nbconvert_exporter": "python",
   "pygments_lexer": "ipython2",
   "version": "2.7.6"
  }
 },
 "nbformat": 4,
 "nbformat_minor": 0
}
