{
 "cells": [
  {
   "cell_type": "markdown",
   "metadata": {},
   "source": [
    "# Runtime MNIST CNN Classification Example\n",
    "Uses Convs and FCs operations to do a simple. An image scale of [0, 1] is used here."
   ]
  },
  {
   "cell_type": "code",
   "execution_count": 79,
   "metadata": {
    "collapsed": false
   },
   "outputs": [],
   "source": [
    "# Force matplotlib to use inline rendering\n",
    "%matplotlib inline\n",
    "\n",
    "import os\n",
    "import sys\n",
    "\n",
    "# add path to libraries for ipython\n",
    "sys.path.append(os.path.expanduser(\"~/libs\"))\n",
    "\n",
    "import numpy as np\n",
    "import tensorflow as tf\n",
    "import tensortools as tt"
   ]
  },
  {
   "cell_type": "code",
   "execution_count": 80,
   "metadata": {
    "collapsed": true
   },
   "outputs": [],
   "source": [
    "BATCH_SIZE = 32\n",
    "REG_LAMBDA = 0.0001\n",
    "INITIAL_LR = 0.001\n",
    "LR_DECAY_STEP_INTERVAL = 10000\n",
    "LR_DECAY_FACTOR = 0.5"
   ]
  },
  {
   "cell_type": "code",
   "execution_count": 81,
   "metadata": {
    "collapsed": false
   },
   "outputs": [],
   "source": [
    "dataset_train = tt.datasets.mnist.MNISTTrainDataset()\n",
    "dataset_valid = tt.datasets.mnist.MNISTValidDataset()\n",
    "dataset_test = tt.datasets.mnist.MNISTTestDataset()"
   ]
  },
  {
   "cell_type": "markdown",
   "metadata": {},
   "source": [
    "### Model"
   ]
  },
  {
   "cell_type": "code",
   "execution_count": 82,
   "metadata": {
    "collapsed": false,
    "scrolled": true
   },
   "outputs": [],
   "source": [
    "class SimpleClassificationModel(tt.model.AbstractModel):    \n",
    "    def __init__(self, reg_lambda=0.0):\n",
    "        super(SimpleClassificationModel, self).__init__(reg_lambda)\n",
    "        \n",
    "    @tt.utils.attr.override\n",
    "    def inference(self, inputs, targets, is_training=True,\n",
    "                  device_scope=None, memory_device=None):\n",
    "        # 1: Conv\n",
    "        conv1 = tt.network.conv2d(\"Conv1\", inputs,\n",
    "                                  32, (5, 5), (1, 1),\n",
    "                                  weight_init=tf.contrib.layers.xavier_initializer_conv2d(),\n",
    "                                  bias_init=0.1,\n",
    "                                  regularizer=tf.contrib.layers.l2_regularizer(self.reg_lambda),\n",
    "                                  activation=tf.nn.relu)\n",
    "        conv1 = tt.network.max_pool2d(conv1)\n",
    "\n",
    "        # 2: Conv\n",
    "        conv2 = tt.network.conv2d(\"Conv2\", conv1,\n",
    "                                  64, (3, 3), (1, 1),\n",
    "                                  weight_init=tf.contrib.layers.xavier_initializer_conv2d(),\n",
    "                                  bias_init=0.1,\n",
    "                                  regularizer=tf.contrib.layers.l2_regularizer(self.reg_lambda),\n",
    "                                  activation=tf.nn.relu)\n",
    "        conv2 = tt.network.max_pool2d(conv2)\n",
    "        \n",
    "        conv2_flat = tf.contrib.layers.flatten(conv2)\n",
    "        \n",
    "        # 1: FC\n",
    "        fc1 = tt.network.fc(\"FC1\", conv2_flat, 256,\n",
    "                            weight_init=tf.contrib.layers.xavier_initializer(),\n",
    "                            bias_init=0.1,\n",
    "                            regularizer=tf.contrib.layers.l2_regularizer(self.reg_lambda),\n",
    "                            activation=tf.nn.relu)\n",
    "\n",
    "        # 2: FC\n",
    "        fc2 = tt.network.fc(\"Out\", fc1, 10,\n",
    "                            weight_init=tf.contrib.layers.xavier_initializer(),\n",
    "                            bias_init=0.1,\n",
    "                            regularizer=tf.contrib.layers.l2_regularizer(self.reg_lambda),\n",
    "                            activation=tf.nn.softmax)\n",
    "\n",
    "        res = tf.reshape(fc2, [-1] + targets.get_shape().as_list()[1:])\n",
    "        return res\n",
    "    \n",
    "    @tt.utils.attr.override\n",
    "    def loss(self, predictions, targets):\n",
    "        cross_entropy = -tf.reduce_sum(targets*tf.log(predictions), name=\"CE_loss\")\n",
    "        return cross_entropy"
   ]
  },
  {
   "cell_type": "markdown",
   "metadata": {},
   "source": [
    "### Training"
   ]
  },
  {
   "cell_type": "code",
   "execution_count": 83,
   "metadata": {
    "collapsed": false
   },
   "outputs": [
    {
     "name": "stdout",
     "output_type": "stream",
     "text": [
      "Launing default runtime...\n",
      "Selecting GPU device: 3\n",
      "Total model-params: 824970\n"
     ]
    }
   ],
   "source": [
    "runtime = tt.core.DefaultRuntime()\n",
    "runtime.register_datasets(dataset_train, dataset_valid, dataset_test)\n",
    "runtime.register_model(SimpleClassificationModel(reg_lambda=REG_LAMBDA))\n",
    "runtime.build(INITIAL_LR,\n",
    "              LR_DECAY_STEP_INTERVAL,\n",
    "              LR_DECAY_FACTOR)"
   ]
  },
  {
   "cell_type": "code",
   "execution_count": null,
   "metadata": {
    "collapsed": false
   },
   "outputs": [],
   "source": [
    "runtime.train(batch_size=BATCH_SIZE, steps=1000, do_checkpoints=False, do_summary=False)"
   ]
  },
  {
   "cell_type": "markdown",
   "metadata": {
    "collapsed": true
   },
   "source": [
    "### Evaluation"
   ]
  },
  {
   "cell_type": "code",
   "execution_count": null,
   "metadata": {
    "collapsed": false
   },
   "outputs": [],
   "source": [
    "runtime.test(50)"
   ]
  },
  {
   "cell_type": "code",
   "execution_count": null,
   "metadata": {
    "collapsed": false
   },
   "outputs": [],
   "source": [
    "x, y = dataset_test.get_batch(1)\n",
    "\n",
    "tt.visualization.display_array(x[0] * 255)\n",
    "\n",
    "pred = runtime.predict(x)\n",
    "\n",
    "print(np.argmax(pred))"
   ]
  },
  {
   "cell_type": "markdown",
   "metadata": {
    "collapsed": true
   },
   "source": [
    "### Terminate"
   ]
  },
  {
   "cell_type": "code",
   "execution_count": null,
   "metadata": {
    "collapsed": true
   },
   "outputs": [],
   "source": [
    "runtime.close()"
   ]
  }
 ],
 "metadata": {
  "kernelspec": {
   "display_name": "Python 2",
   "language": "python",
   "name": "python2"
  },
  "language_info": {
   "codemirror_mode": {
    "name": "ipython",
    "version": 2
   },
   "file_extension": ".py",
   "mimetype": "text/x-python",
   "name": "python",
   "nbconvert_exporter": "python",
   "pygments_lexer": "ipython2",
   "version": "2.7.6"
  }
 },
 "nbformat": 4,
 "nbformat_minor": 0
}
