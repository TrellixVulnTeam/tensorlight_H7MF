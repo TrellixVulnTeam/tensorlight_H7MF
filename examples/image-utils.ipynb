{
 "cells": [
  {
   "cell_type": "markdown",
   "metadata": {},
   "source": [
    "# Image Utils Example\n",
    "\n",
    "This example demonstrates the usage of the tensortools.utils.image module."
   ]
  },
  {
   "cell_type": "code",
   "execution_count": null,
   "metadata": {
    "collapsed": false
   },
   "outputs": [],
   "source": [
    "# Force matplotlib to use inline rendering\n",
    "%matplotlib inline\n",
    "\n",
    "import os\n",
    "import sys\n",
    "\n",
    "# add path to libraries for ipython\n",
    "sys.path.append(os.path.expanduser(\"~/libs\"))\n",
    "\n",
    "import cv2\n",
    "import numpy as np\n",
    "import tensortools as tt"
   ]
  },
  {
   "cell_type": "markdown",
   "metadata": {},
   "source": [
    "### Read images"
   ]
  },
  {
   "cell_type": "code",
   "execution_count": null,
   "metadata": {
    "collapsed": false
   },
   "outputs": [],
   "source": [
    "img_color = tt.utils.image.read(\"assets/color250x250.jpg\")\n",
    "img_gray = tt.utils.image.read(\"assets/color250x250.jpg\", cv2.IMREAD_GRAYSCALE)\n",
    "\n",
    "print(np.shape(img_color))\n",
    "print(np.shape(img_gray))\n",
    "\n",
    "tt.visualization.display_array(img_color)\n",
    "tt.visualization.display_array(img_gray)\n",
    "\n",
    "tt.visualization.display_batch(np.expand_dims(img_color, 0))\n",
    "tt.visualization.display_batch(np.expand_dims(img_gray, 0))"
   ]
  },
  {
   "cell_type": "code",
   "execution_count": null,
   "metadata": {
    "collapsed": false
   },
   "outputs": [],
   "source": [
    "img_color = tt.utils.image.read(\"assets/example250x250.jpg\")\n",
    "img_gray = tt.utils.image.read(\"assets/example250x250.jpg\", cv2.IMREAD_GRAYSCALE)\n",
    "\n",
    "print(np.shape(img_color))\n",
    "print(np.shape(img_gray))\n",
    "\n",
    "tt.visualization.display_array(img_color) # HERE: the color of the cube is wrong !?\n",
    "tt.visualization.display_array(img_gray)\n",
    "\n",
    "tt.visualization.display_batch(np.expand_dims(img_color, 0))\n",
    "tt.visualization.display_batch(np.expand_dims(img_gray, 0))"
   ]
  },
  {
   "cell_type": "markdown",
   "metadata": {
    "collapsed": false
   },
   "source": [
    "### Conversion"
   ]
  },
  {
   "cell_type": "code",
   "execution_count": null,
   "metadata": {
    "collapsed": false
   },
   "outputs": [],
   "source": [
    "color_to_gray_img = tt.utils.image.to_grayscale(img_color)\n",
    "print(np.shape(color_to_gray_img))\n",
    "\n",
    "tt.visualization.display_array(color_to_gray_img)"
   ]
  },
  {
   "cell_type": "code",
   "execution_count": null,
   "metadata": {
    "collapsed": false
   },
   "outputs": [],
   "source": [
    "gray_to_color_img = tt.utils.image.to_rgb(img_gray)\n",
    "print(np.shape(gray_to_color_img))\n",
    "\n",
    "tt.visualization.display_array(gray_to_color_img)"
   ]
  },
  {
   "cell_type": "markdown",
   "metadata": {},
   "source": [
    "### Resize"
   ]
  },
  {
   "cell_type": "code",
   "execution_count": null,
   "metadata": {
    "collapsed": false
   },
   "outputs": [],
   "source": [
    "img_color_resized = tt.utils.image.resize(img_color, 0.5)\n",
    "print(np.shape(img_color_resized))\n",
    "img_gray_resized = tt.utils.image.resize(img_gray, size=(50, 100))\n",
    "print(np.shape(img_gray_resized))\n",
    "\n",
    "tt.visualization.display_array(img_color_resized)\n",
    "tt.visualization.display_array(img_gray_resized)"
   ]
  },
  {
   "cell_type": "markdown",
   "metadata": {},
   "source": [
    "### Save images"
   ]
  },
  {
   "cell_type": "code",
   "execution_count": null,
   "metadata": {
    "collapsed": false
   },
   "outputs": [],
   "source": [
    "tt.utils.image.write(\"out/img_color_resized.png\",\n",
    "                     img_color_resized,\n",
    "                     tt.utils.image.VALUE_RANGE_0_255)\n",
    "tt.utils.image.write_as_binary(\"out/img_gray.bin\",\n",
    "                               img_gray)"
   ]
  },
  {
   "cell_type": "markdown",
   "metadata": {
    "collapsed": true
   },
   "source": [
    "### Pad or crop"
   ]
  },
  {
   "cell_type": "code",
   "execution_count": null,
   "metadata": {
    "collapsed": false
   },
   "outputs": [],
   "source": [
    "img = tt.utils.image.read(\"assets/color250x250.jpg\")\n",
    "print(\"Original\", img.shape)\n",
    "img_same = tt.utils.image.pad_or_crop(img, img.shape)\n",
    "print(\"Same\", img_same.shape)\n",
    "\n",
    "img_odd_pad = tt.utils.image.pad_or_crop(img, [251, 251])\n",
    "print(\"Odd pad\", img_odd_pad.shape)\n",
    "print(\"Original unchanged\", img.shape)\n",
    "img_even_pad = tt.utils.image.pad_or_crop(img, [300, 300], pad_value=0)\n",
    "print(\"Even pad\", img_even_pad.shape)\n",
    "print(\"Original unchanged\", img.shape)\n",
    "\n",
    "img_odd_crop = tt.utils.image.pad_or_crop(img, [249, 249])\n",
    "print(\"Odd crop\", img_odd_crop.shape)\n",
    "print(\"Original unchanged\", img.shape)\n",
    "img_even_crop = tt.utils.image.pad_or_crop(img, [200, 200], pad_value=0)\n",
    "print(\"Even crop\", img_even_crop.shape)\n",
    "print(\"Original unchanged\", img.shape)\n",
    "\n",
    "img_mixed = tt.utils.image.pad_or_crop(img, [300, 200], pad_value=0)\n",
    "print(\"Mixed\", img_mixed.shape)\n",
    "print(\"Original unchanged\", img.shape)\n",
    "\n",
    "tt.visualization.display_array(img)\n",
    "tt.visualization.display_array(img_same)\n",
    "tt.visualization.display_array(img_even_pad)\n",
    "tt.visualization.display_array(img_even_crop)\n",
    "tt.visualization.display_array(img_mixed)\n",
    "\n",
    "# test that modifying the copy does not change the original\n",
    "img_even_pad.fill(99)\n",
    "img_odd_pad.fill(99)\n",
    "img_even_crop.fill(99)\n",
    "img_odd_crop.fill(99)\n",
    "\n",
    "print(\"Check that no value is 99:\")\n",
    "print(img)"
   ]
  },
  {
   "cell_type": "code",
   "execution_count": null,
   "metadata": {
    "collapsed": true
   },
   "outputs": [],
   "source": []
  }
 ],
 "metadata": {
  "kernelspec": {
   "display_name": "Python 2",
   "language": "python",
   "name": "python2"
  },
  "language_info": {
   "codemirror_mode": {
    "name": "ipython",
    "version": 2
   },
   "file_extension": ".py",
   "mimetype": "text/x-python",
   "name": "python",
   "nbconvert_exporter": "python",
   "pygments_lexer": "ipython2",
   "version": "2.7.6"
  }
 },
 "nbformat": 4,
 "nbformat_minor": 0
}
