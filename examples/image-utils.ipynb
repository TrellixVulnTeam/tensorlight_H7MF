{
 "cells": [
  {
   "cell_type": "markdown",
   "metadata": {},
   "source": [
    "# Image Utils Example\n",
    "\n",
    "This example demonstrates the usage of the tensortools.utils.image module."
   ]
  },
  {
   "cell_type": "code",
   "execution_count": 1,
   "metadata": {
    "collapsed": false
   },
   "outputs": [],
   "source": [
    "# Force matplotlib to use inline rendering\n",
    "%matplotlib inline\n",
    "\n",
    "import os\n",
    "import sys\n",
    "\n",
    "# add path to libraries for ipython\n",
    "sys.path.append(os.path.expanduser(\"~/libs\"))\n",
    "\n",
    "import cv2\n",
    "import numpy as np\n",
    "import tensortools as tt"
   ]
  },
  {
   "cell_type": "code",
   "execution_count": null,
   "metadata": {
    "collapsed": false
   },
   "outputs": [],
   "source": [
    "img_color = tt.utils.image.open(\"assets/example250x250.png\")\n",
    "img_gray = tt.utils.image.open(\"assets/example250x250.png\", cv2.IMREAD_GRAYSCALE)\n",
    "\n",
    "print(np.shape(img_color))\n",
    "print(np.shape(img_gray))"
   ]
  },
  {
   "cell_type": "code",
   "execution_count": null,
   "metadata": {
    "collapsed": false
   },
   "outputs": [],
   "source": [
    "tt.visualization.display_array(img_color)\n",
    "tt.visualization.display_array(img_gray)"
   ]
  },
  {
   "cell_type": "code",
   "execution_count": null,
   "metadata": {
    "collapsed": false
   },
   "outputs": [],
   "source": [
    "color_to_gray_img = tt.utils.image.to_grayscale(img_color)\n",
    "print(np.shape(color_to_gray_img))\n",
    "\n",
    "tt.visualization.display_array(color_to_gray_img)"
   ]
  },
  {
   "cell_type": "code",
   "execution_count": null,
   "metadata": {
    "collapsed": false
   },
   "outputs": [],
   "source": [
    "gray_to_color_img = tt.utils.image.to_rgb(img_gray)\n",
    "print(np.shape(gray_to_color_img))\n",
    "\n",
    "tt.visualization.display_array(gray_to_color_img)"
   ]
  },
  {
   "cell_type": "code",
   "execution_count": null,
   "metadata": {
    "collapsed": false
   },
   "outputs": [],
   "source": [
    "img_color_resized = tt.utils.image.resize(img_color, 0.5)\n",
    "print(np.shape(img_color_resized))\n",
    "img_gray_resized = tt.utils.image.resize(img_gray, size=(50, 100))\n",
    "print(np.shape(img_gray_resized))\n",
    "\n",
    "tt.visualization.display_array(img_color_resized)\n",
    "tt.visualization.display_array(img_gray_resized)"
   ]
  },
  {
   "cell_type": "code",
   "execution_count": null,
   "metadata": {
    "collapsed": true
   },
   "outputs": [],
   "source": []
  }
 ],
 "metadata": {
  "kernelspec": {
   "display_name": "Python 2",
   "language": "python",
   "name": "python2"
  },
  "language_info": {
   "codemirror_mode": {
    "name": "ipython",
    "version": 2
   },
   "file_extension": ".py",
   "mimetype": "text/x-python",
   "name": "python",
   "nbconvert_exporter": "python",
   "pygments_lexer": "ipython2",
   "version": "2.7.6"
  }
 },
 "nbformat": 4,
 "nbformat_minor": 0
}
