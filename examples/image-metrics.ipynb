{
 "cells": [
  {
   "cell_type": "markdown",
   "metadata": {
    "collapsed": true
   },
   "source": [
    "# Image Metrics Example\n",
    "Adapted from [SciKit-Image: Structural similarity index](http://scikit-image.org/docs/dev/auto_examples/plot_ssim.html).\n",
    "\n",
    "**Note:**\n",
    "*There seem to be some minor numerical instabilities on GPU.*"
   ]
  },
  {
   "cell_type": "code",
   "execution_count": 1,
   "metadata": {
    "collapsed": false
   },
   "outputs": [],
   "source": [
    "# Force matplotlib to use inline rendering\n",
    "%matplotlib inline\n",
    "\n",
    "import os\n",
    "import sys\n",
    "\n",
    "# add path to libraries for ipython\n",
    "sys.path.append(os.path.expanduser(\"~/libs\"))\n",
    "\n",
    "import numpy as np\n",
    "import tensorflow as tf\n",
    "import tensortools as tt\n",
    "\n",
    "from skimage import data, img_as_float\n",
    "from scipy.misc import imresize"
   ]
  },
  {
   "cell_type": "markdown",
   "metadata": {},
   "source": [
    "### Demo using SINGLE images"
   ]
  },
  {
   "cell_type": "code",
   "execution_count": 2,
   "metadata": {
    "collapsed": false
   },
   "outputs": [],
   "source": [
    "image = data.camera()\n",
    "img = img_as_float(image)\n",
    "rows, cols = img.shape\n",
    "\n",
    "noise = np.ones_like(img) * 0.2 * (img.max() - img.min())\n",
    "noise[np.random.random(size=noise.shape) > 0.5] *= -1\n",
    "\n",
    "# a) Noise\n",
    "img_noise = img + noise\n",
    "\n",
    "# b) Constant noise\n",
    "img_const = img + abs(noise)\n",
    "\n",
    "# c) Scaled (center)\n",
    "img_scaled = imresize(img, (rows, int(cols * 1.15)))\n",
    "s = img_scaled.shape\n",
    "border = (s[1] - s[0]) // 2\n",
    "img_scaled = img_scaled[:, border:s[0]+border]\n",
    "img_scaled = img_as_float(img_scaled)\n",
    "\n",
    "# d) Scaled (left part)\n",
    "img_scaled_left = imresize(img, (rows, int(cols * 1.1)))\n",
    "img_scaled_left = img_scaled_left[:, 0:cols]\n",
    "img_scaled_left = img_as_float(img_scaled_left)"
   ]
  },
  {
   "cell_type": "code",
   "execution_count": 3,
   "metadata": {
    "collapsed": false
   },
   "outputs": [
    {
     "name": "stdout",
     "output_type": "stream",
     "text": [
      "### None:\n",
      "MSE: 0.0\n",
      "RMSE: 0.0\n",
      "MAE: 0.0\n",
      "RMAE: 0.0\n",
      "SSIM: 1.0\n",
      "SS-SSIM: 1.0\n",
      "MS-SSIM: 1.0\n",
      "\n",
      "### Noise:\n",
      "MSE: 10485.7509766\n",
      "RMSE: 102.39995575\n",
      "MAE: 52428.8242188\n",
      "RMAE: 228.973419189\n",
      "SSIM: 0.105835258961\n",
      "SS-SSIM: 0.307311892509\n",
      "MS-SSIM: 0.534006118774\n",
      "\n",
      "### Constant noise:\n",
      "MSE: 10485.7509766\n",
      "RMSE: 102.39995575\n",
      "MAE: 52428.8242188\n",
      "RMAE: 228.973419189\n",
      "SSIM: 0.836651444435\n",
      "SS-SSIM: 0.842247664928\n",
      "MS-SSIM: 0.977653861046\n",
      "\n",
      "### Scaled (center):\n",
      "MSE: 7048.29638672\n",
      "RMSE: 83.9541320801\n",
      "MAE: 20671.4550781\n",
      "RMAE: 143.77571106\n",
      "SSIM: 0.628786146641\n",
      "SS-SSIM: 0.592587590218\n",
      "MS-SSIM: 0.613879799843\n",
      "\n",
      "### Scaled (left):\n",
      "MSE: 10021.7802734\n",
      "RMSE: 100.108848572\n",
      "MAE: 25892.2773438\n",
      "RMAE: 160.910766602\n",
      "SSIM: 0.574544787407\n",
      "SS-SSIM: 0.520932495594\n",
      "MS-SSIM: 0.453918486834\n",
      "\n"
     ]
    }
   ],
   "source": [
    "image1 = tf.placeholder(tf.float32, shape=[rows, cols])\n",
    "image2 = tf.placeholder(tf.float32, shape=[rows, cols])\n",
    "\n",
    "def image_to_4d(image):\n",
    "    image = tf.expand_dims(image, 0) # BATCH_SIZE = 1\n",
    "    image = tf.expand_dims(image, -1) # CHANNELS = 1\n",
    "    return image\n",
    "\n",
    "image4d_1 = image_to_4d(image1)\n",
    "image4d_2 = image_to_4d(image2)\n",
    "\n",
    "ssim_index = tt.loss.ssim(image4d_1 * 255, image4d_2 * 255)\n",
    "msssim_index = tt.loss.ms_ssim(image4d_1 * 255, image4d_2 * 255)\n",
    "ssssim_index = tt.loss.ss_ssim(image4d_1 * 255, image4d_2 * 255)\n",
    "\n",
    "mse = tt.loss.image_mse(image4d_1, image4d_2)\n",
    "rmse = tt.loss.image_rmse(image4d_1, image4d_2)\n",
    "mae = tt.loss.image_mae(image4d_1, image4d_2)\n",
    "rmae = tt.loss.image_rmae(image4d_1, image4d_2)\n",
    "\n",
    "with tf.Session() as sess:\n",
    "    sess.run(tf.initialize_all_variables())\n",
    "    \n",
    "    mse_none = sess.run(mse,\n",
    "                        feed_dict={image1: img, image2: img})\n",
    "    mse_noise = sess.run(mse,\n",
    "                         feed_dict={image1: img, image2: img_noise})\n",
    "    mse_const = sess.run(mse,\n",
    "                         feed_dict={image1: img, image2: img_const})\n",
    "    mse_scaled = sess.run(mse,\n",
    "                          feed_dict={image1: img, image2: img_scaled})\n",
    "    mse_scaled_left = sess.run(mse,\n",
    "                               feed_dict={image1: img, image2: img_scaled_left})\n",
    "    \n",
    "    rmse_none = sess.run(rmse,\n",
    "                         feed_dict={image1: img, image2: img})\n",
    "    rmse_noise = sess.run(rmse,\n",
    "                          feed_dict={image1: img, image2: img_noise})\n",
    "    rmse_const = sess.run(rmse,\n",
    "                          feed_dict={image1: img, image2: img_const})\n",
    "    rmse_scaled = sess.run(rmse,\n",
    "                           feed_dict={image1: img, image2: img_scaled})\n",
    "    rmse_scaled_left = sess.run(rmse,\n",
    "                                feed_dict={image1: img, image2: img_scaled_left})\n",
    "    \n",
    "    mae_none = sess.run(mae,\n",
    "                        feed_dict={image1: img, image2: img})\n",
    "    mae_noise = sess.run(mae,\n",
    "                         feed_dict={image1: img, image2: img_noise})\n",
    "    mae_const = sess.run(mae,\n",
    "                         feed_dict={image1: img, image2: img_const})\n",
    "    mae_scaled = sess.run(mae,\n",
    "                          feed_dict={image1: img, image2: img_scaled})\n",
    "    mae_scaled_left = sess.run(mae,\n",
    "                               feed_dict={image1: img, image2: img_scaled_left})\n",
    "    \n",
    "    rmae_none = sess.run(rmae,\n",
    "                         feed_dict={image1: img, image2: img})\n",
    "    rmae_noise = sess.run(rmae,\n",
    "                          feed_dict={image1: img, image2: img_noise})\n",
    "    rmae_const = sess.run(rmae,\n",
    "                          feed_dict={image1: img, image2: img_const})\n",
    "    rmae_scaled = sess.run(rmae,\n",
    "                           feed_dict={image1: img, image2: img_scaled})\n",
    "    rmae_scaled_left = sess.run(rmae,\n",
    "                                feed_dict={image1: img, image2: img_scaled_left})\n",
    "\n",
    "    ssim_none = sess.run(ssim_index,\n",
    "                         feed_dict={image1: img, image2: img})\n",
    "    ssim_noise = sess.run(ssim_index,\n",
    "                          feed_dict={image1: img, image2: img_noise})\n",
    "    ssim_const = sess.run(ssim_index,\n",
    "                          feed_dict={image1: img, image2: img_const})\n",
    "    ssim_scaled = sess.run(ssim_index,\n",
    "                           feed_dict={image1: img, image2: img_scaled})\n",
    "    ssim_scaled_left = sess.run(ssim_index,\n",
    "                                feed_dict={image1: img, image2: img_scaled_left})\n",
    "\n",
    "    msssim_none = sess.run(msssim_index,\n",
    "                           feed_dict={image1: img, image2: img})\n",
    "    msssim_noise = sess.run(msssim_index,\n",
    "                            feed_dict={image1: img, image2: img_noise})\n",
    "    msssim_const = sess.run(msssim_index,\n",
    "                            feed_dict={image1: img, image2: img_const})\n",
    "    msssim_scaled = sess.run(msssim_index,\n",
    "                             feed_dict={image1: img, image2: img_scaled})\n",
    "    msssim_scaled_left = sess.run(msssim_index,\n",
    "                                  feed_dict={image1: img, image2: img_scaled_left})\n",
    "    \n",
    "    ssssim_none = sess.run(ssssim_index,\n",
    "                           feed_dict={image1: img, image2: img})\n",
    "    ssssim_noise = sess.run(ssssim_index,\n",
    "                            feed_dict={image1: img, image2: img_noise})\n",
    "    ssssim_const = sess.run(ssssim_index,\n",
    "                            feed_dict={image1: img, image2: img_const})\n",
    "    ssssim_scaled = sess.run(ssssim_index,\n",
    "                             feed_dict={image1: img, image2: img_scaled})\n",
    "    ssssim_scaled_left = sess.run(ssssim_index,\n",
    "                                  feed_dict={image1: img, image2: img_scaled_left})\n",
    "\n",
    "    \n",
    "def print_result(title, mse, rmse, mae, rmae, ssim, msssim, ssssim):\n",
    "    print('### {}:'.format(title))\n",
    "    print('MSE: {}'.format(mse))\n",
    "    print('RMSE: {}'.format(rmse))\n",
    "    print('MAE: {}'.format(mae))\n",
    "    print('RMAE: {}'.format(rmae))\n",
    "    print('SSIM: {}'.format(ssim))\n",
    "    print('SS-SSIM: {}'.format(ssssim))\n",
    "    print('MS-SSIM: {}'.format(msssim))\n",
    "    print\n",
    "    \n",
    "print_result('None',\n",
    "             mse_none, rmse_none, mae_none, rmae_none, ssim_none, msssim_none, ssssim_none)\n",
    "print_result('Noise',\n",
    "             mse_noise, rmse_noise, mae_noise, rmae_noise, ssim_noise, msssim_noise, ssssim_noise)\n",
    "print_result('Constant noise',\n",
    "             mse_const, rmse_const, mae_const, rmae_const, ssim_const, msssim_const, ssssim_const)\n",
    "print_result('Scaled (center)',\n",
    "             mse_scaled, rmse_scaled, mae_scaled, rmae_scaled, ssim_scaled, msssim_scaled, ssssim_scaled)\n",
    "print_result('Scaled (left)',\n",
    "             mse_scaled_left, rmse_scaled_left, mae_scaled_left, rmae_scaled_left, ssim_scaled_left,\n",
    "             msssim_scaled_left, ssssim_scaled_left)"
   ]
  },
  {
   "cell_type": "code",
   "execution_count": null,
   "metadata": {
    "collapsed": false,
    "scrolled": true
   },
   "outputs": [],
   "source": [
    "tt.visualization.display_array(img*255)\n",
    "tt.visualization.display_batch([img_noise, img_const, img_scaled, img_scaled_left])"
   ]
  },
  {
   "cell_type": "markdown",
   "metadata": {
    "collapsed": true
   },
   "source": [
    "## Test using BATCHES of images (MNIST)"
   ]
  },
  {
   "cell_type": "code",
   "execution_count": 4,
   "metadata": {
    "collapsed": false
   },
   "outputs": [
    {
     "name": "stdout",
     "output_type": "stream",
     "text": [
      "File mnist.h5 has already been downloaded.\n",
      "### Same image:\n",
      "RMSE: 0.0\n",
      "SSIM: 0.999999523163\n",
      "SS-SSIM: 1.0\n",
      "MS-SSIM: 0.999999761581\n",
      "### Different images:\n",
      "RMSE: 17.5549869537\n",
      "SSIM: 0.563506305218\n",
      "SS-SSIM: 0.285507798195\n",
      "MS-SSIM: 0.402658224106\n"
     ]
    },
    {
     "data": {
      "image/png": "[encoded data removed]",
      "text/plain": [
       "<matplotlib.figure.Figure at 0x7fbad468af10>"
      ]
     },
     "metadata": {},
     "output_type": "display_data"
    },
    {
     "data": {
      "image/png": "[encoded data removed]",
      "text/plain": [
       "<matplotlib.figure.Figure at 0x7fbb9c24a250>"
      ]
     },
     "metadata": {},
     "output_type": "display_data"
    }
   ],
   "source": [
    "BATCH_SIZE = 4\n",
    "FRAME_SIZE = 64\n",
    "FRAME_CHANNELS = 1\n",
    "\n",
    "dataset_train = tt.datasets.moving_mnist.MovingMNISTTrainDataset(BATCH_SIZE, 1)\n",
    "\n",
    "image1 = tf.placeholder(tf.float32, shape=[None, FRAME_SIZE, FRAME_SIZE, FRAME_CHANNELS])\n",
    "image2 = tf.placeholder(tf.float32, shape=[None, FRAME_SIZE, FRAME_SIZE, FRAME_CHANNELS])\n",
    "\n",
    "ssim_loss = tt.loss.ssim(image1, image2)\n",
    "\n",
    "# len(levels_weights) >= 3 can produce NaN here, because 64x64 image is too small\n",
    "msssim_loss = tt.loss.ms_ssim(image1, image2, level_weights=[0.5, 0.5])\n",
    "\n",
    "ssssim_loss = tt.loss.ss_ssim(image1, image2, level=2)\n",
    "\n",
    "rmse_loss = tt.loss.image_rmse(image1, image2)\n",
    "\n",
    "with tf.Session() as sess:\n",
    "    sess.run(tf.initialize_all_variables())\n",
    "    \n",
    "    def get_batch_without_time_dim():\n",
    "        dataset_train.reset()\n",
    "        b = dataset_train.get_batch()\n",
    "        return np.squeeze(b, (1,))\n",
    "        \n",
    "    batch = get_batch_without_time_dim()\n",
    "    batch_rescaled = batch * 255 # because (MS-)SSIM expects scale [0-255]\n",
    "    \n",
    "    ssim = sess.run(ssim_loss,\n",
    "                    feed_dict={image1: batch_rescaled, image2: batch_rescaled})\n",
    "    msssim = sess.run(msssim_loss,\n",
    "                       feed_dict={image1: batch_rescaled, image2: batch_rescaled})\n",
    "    ssssim = sess.run(ssssim_loss,\n",
    "                       feed_dict={image1: batch_rescaled, image2: batch_rescaled})\n",
    "    rmse = sess.run(rmse_loss,\n",
    "                    feed_dict={image1: batch, image2: batch})\n",
    "    \n",
    "    print \"### Same image:\"\n",
    "    print('RMSE: {}'.format(rmse))\n",
    "    print('SSIM: {}'.format(ssim))\n",
    "    print('SS-SSIM: {}'.format(ssssim))\n",
    "    print('MS-SSIM: {}'.format(msssim))\n",
    "    \n",
    "    batch_a = get_batch_without_time_dim()\n",
    "    batch_b = get_batch_without_time_dim()\n",
    "    batch_a_rescaled = batch_a * 255\n",
    "    batch_b_rescaled = batch_b * 255\n",
    "    \n",
    "    tt.visualization.display_batch(batch_a)\n",
    "    tt.visualization.display_batch(batch_b)\n",
    "    \n",
    "    ssim = sess.run(ssim_loss,\n",
    "                    feed_dict={image1: batch_a_rescaled, image2: batch_b_rescaled})\n",
    "    msssim = sess.run(msssim_loss,\n",
    "                      feed_dict={image1: batch_a_rescaled, image2: batch_b_rescaled})\n",
    "    ssssim = sess.run(ssssim_loss,\n",
    "                      feed_dict={image1: batch_a_rescaled, image2: batch_b_rescaled})\n",
    "    rmse = sess.run(rmse_loss,\n",
    "                    feed_dict={image1: batch_a, image2: batch_b})\n",
    "    \n",
    "    print \"### Different images:\"\n",
    "    print('RMSE: {}'.format(rmse))\n",
    "    print('SSIM: {}'.format(ssim))\n",
    "    print('SS-SSIM: {}'.format(ssssim))\n",
    "    print('MS-SSIM: {}'.format(msssim))"
   ]
  },
  {
   "cell_type": "code",
   "execution_count": null,
   "metadata": {
    "collapsed": true
   },
   "outputs": [],
   "source": []
  }
 ],
 "metadata": {
  "kernelspec": {
   "display_name": "Python 2",
   "language": "python",
   "name": "python2"
  },
  "language_info": {
   "codemirror_mode": {
    "name": "ipython",
    "version": 2
   },
   "file_extension": ".py",
   "mimetype": "text/x-python",
   "name": "python",
   "nbconvert_exporter": "python",
   "pygments_lexer": "ipython2",
   "version": "2.7.6"
  }
 },
 "nbformat": 4,
 "nbformat_minor": 0
}
