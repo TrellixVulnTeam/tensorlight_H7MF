{
 "cells": [
  {
   "cell_type": "markdown",
   "metadata": {},
   "source": [
    "# Video Utils Example\n",
    "\n",
    "This example demonstrates the usage of the tensortools.utils.image module."
   ]
  },
  {
   "cell_type": "code",
   "execution_count": null,
   "metadata": {
    "collapsed": false
   },
   "outputs": [],
   "source": [
    "# Force matplotlib to use inline rendering\n",
    "%matplotlib inline\n",
    "\n",
    "import os\n",
    "import sys\n",
    "\n",
    "# add path to libraries for ipython\n",
    "sys.path.append(os.path.expanduser(\"~/libs\"))\n",
    "\n",
    "import numpy as np\n",
    "import tensortools as tt\n",
    "import tensorflow as tf"
   ]
  },
  {
   "cell_type": "markdown",
   "metadata": {},
   "source": [
    "### GIF animations"
   ]
  },
  {
   "cell_type": "code",
   "execution_count": null,
   "metadata": {
    "collapsed": false
   },
   "outputs": [],
   "source": [
    "im1 = np.random.rand(64,64,1) * 255\n",
    "im2 = np.random.rand(64,64,1) * 255 \n",
    "im3 = np.random.rand(64,64,1) * 255\n",
    "im4 = np.random.rand(64,64,1) * 255\n",
    "\n",
    "images = [im1, im2, im3, im4]\n",
    "\n",
    "tt.utils.video.write_gif(\"out/gif-anim1.gif\", images, fps=10)"
   ]
  },
  {
   "cell_type": "code",
   "execution_count": null,
   "metadata": {
    "collapsed": false
   },
   "outputs": [],
   "source": [
    "seq = np.random.rand(8,64,64,3) * 255\n",
    "\n",
    "tt.utils.video.write_gif(\"out/gif-anim2.gif\", seq, fps=10)"
   ]
  },
  {
   "cell_type": "code",
   "execution_count": null,
   "metadata": {
    "collapsed": false
   },
   "outputs": [],
   "source": [
    "im1a = np.random.rand(64,64,3) * 255\n",
    "im2a = np.random.rand(64,64,3) * 255 \n",
    "im3a = np.random.rand(64,64,3) * 255\n",
    "im4a = np.random.rand(64,64,3) * 255\n",
    "\n",
    "im1b = np.random.rand(64,64,3) * 128\n",
    "im2b = np.random.rand(64,64,3) * 128 \n",
    "im3b = np.random.rand(64,64,3) * 128\n",
    "\n",
    "images_a = [im1a, im2a, im3a, im4a]\n",
    "images_b = [im1b, im2b, im3b]\n",
    "\n",
    "tt.utils.video.write_multi_gif(\"out/gif-anim3.gif\", [images_a, images_b], fps=10)"
   ]
  },
  {
   "cell_type": "code",
   "execution_count": null,
   "metadata": {
    "collapsed": false
   },
   "outputs": [],
   "source": [
    "seq1 = np.random.rand(8,64,64,3) * 255\n",
    "seq2 = np.random.rand(8,64,64,3) * 128\n",
    "seq3 = np.random.rand(8,64,64,3) * 255\n",
    "\n",
    "tt.utils.video.write_multi_gif(\"out/gif-anim4.gif\", [seq1, seq2, seq3], fps=10,\n",
    "                                   pad_value=255, pad_width=4)"
   ]
  },
  {
   "cell_type": "markdown",
   "metadata": {
    "collapsed": true
   },
   "source": [
    "### Image sequence"
   ]
  },
  {
   "cell_type": "code",
   "execution_count": null,
   "metadata": {
    "collapsed": false
   },
   "outputs": [],
   "source": [
    "im1 = np.random.rand(64,64,1) * 255\n",
    "im2 = np.random.rand(64,64,1) * 255 \n",
    "im3 = np.random.rand(64,64,1) * 255\n",
    "im4 = np.random.rand(64,64,1) * 255\n",
    "\n",
    "images = [im1, im2, im3, im4]\n",
    "\n",
    "tt.utils.video.write_image_sequence(\"out/img-seq1.png\", images)"
   ]
  },
  {
   "cell_type": "code",
   "execution_count": null,
   "metadata": {
    "collapsed": false
   },
   "outputs": [],
   "source": [
    "seq = np.random.rand(8,64,64,3) * 255\n",
    "\n",
    "tt.utils.video.write_image_sequence(\"out/img-seq2.png\", seq)"
   ]
  },
  {
   "cell_type": "code",
   "execution_count": null,
   "metadata": {
    "collapsed": false
   },
   "outputs": [],
   "source": [
    "im1a = np.random.rand(64,64,3) * 255\n",
    "im2a = np.random.rand(64,64,3) * 255 \n",
    "im3a = np.random.rand(64,64,3) * 255\n",
    "im4a = np.random.rand(64,64,3) * 255\n",
    "\n",
    "im1b = np.random.rand(64,64,3) * 128\n",
    "im2b = np.random.rand(64,64,3) * 128 \n",
    "im3b = np.random.rand(64,64,3) * 128\n",
    "\n",
    "images_a = [im1a, im2a, im3a, im4a]\n",
    "images_b = [im1b, im2b, im3b]\n",
    "\n",
    "tt.utils.video.write_multi_image_sequence(\"out/img-seq3.png\", [images_a, images_b])"
   ]
  },
  {
   "cell_type": "code",
   "execution_count": null,
   "metadata": {
    "collapsed": true
   },
   "outputs": [],
   "source": [
    "seq1 = np.random.rand(6,64,64,3) * 255\n",
    "seq2 = np.random.rand(7,64,64,3) * 128\n",
    "seq3 = np.random.rand(8,64,64,3) * 255\n",
    "\n",
    "tt.utils.video.write_multi_image_sequence(\"out/img-seq4.png\", [seq1, seq2, seq3])"
   ]
  },
  {
   "cell_type": "markdown",
   "metadata": {
    "collapsed": true
   },
   "source": [
    "## Video Reader"
   ]
  },
  {
   "cell_type": "code",
   "execution_count": null,
   "metadata": {
    "collapsed": false
   },
   "outputs": [],
   "source": [
    "VIDEO1 = \"assets/predicted_moving-mnist.avi\"\n",
    "VIDEO2 = \"assets/predicted_ucf11.avi\"\n",
    "VIDEO3 = \"assets/v_JumpRope_g01_c01.avi\""
   ]
  },
  {
   "cell_type": "code",
   "execution_count": null,
   "metadata": {
    "collapsed": true
   },
   "outputs": [],
   "source": [
    "def print_vr_info(vr):\n",
    "    print(\"Length\", vr.frames_length)\n",
    "    print(\"Current-FID\", vr.current_frame_id)\n",
    "    print(\"Frames Left\", vr.frames_left)"
   ]
  },
  {
   "cell_type": "code",
   "execution_count": null,
   "metadata": {
    "collapsed": false
   },
   "outputs": [],
   "source": [
    "vr = tt.utils.video.VideoReader(VIDEO3, start_frame=0)\n",
    "\n",
    "print_vr_info(vr)"
   ]
  },
  {
   "cell_type": "code",
   "execution_count": null,
   "metadata": {
    "collapsed": false
   },
   "outputs": [],
   "source": [
    "frame = vr.next_frame()\n",
    "tt.visualization.display_array(frame)\n",
    "print_vr_info(vr)"
   ]
  },
  {
   "cell_type": "code",
   "execution_count": null,
   "metadata": {
    "collapsed": false
   },
   "outputs": [],
   "source": [
    "vr.skip_frames(10)\n",
    "print_vr_info(vr)"
   ]
  },
  {
   "cell_type": "code",
   "execution_count": null,
   "metadata": {
    "collapsed": false
   },
   "outputs": [],
   "source": [
    "vr.goto_frame(5)\n",
    "print_vr_info(vr)"
   ]
  },
  {
   "cell_type": "code",
   "execution_count": null,
   "metadata": {
    "collapsed": true
   },
   "outputs": [],
   "source": [
    "vr.release()"
   ]
  },
  {
   "cell_type": "markdown",
   "metadata": {
    "collapsed": true
   },
   "source": [
    "## Workflow: Read Video -> Save frames as binary -> Read binary -> Show Image"
   ]
  },
  {
   "cell_type": "code",
   "execution_count": null,
   "metadata": {
    "collapsed": true
   },
   "outputs": [],
   "source": [
    "VIDEO = \"v_JumpRope_g01_c01.avi\"\n",
    "SEQ_LENGTH = 30\n",
    "IMAGE_SIZE = [240,320, 3]\n",
    "DO_DISTORTION = False"
   ]
  },
  {
   "cell_type": "code",
   "execution_count": null,
   "metadata": {
    "collapsed": false
   },
   "outputs": [],
   "source": [
    "count, seq_list = tt.utils.data.preprocess_videos(\"assets\", \"_test\", file_list=[VIDEO], \n",
    "                                                  image_size=IMAGE_SIZE,\n",
    "                                                  serialized_sequence_length=SEQ_LENGTH)\n",
    "print(\"Count:\", count)\n",
    "print(\"Seq-Files\", seq_list)"
   ]
  },
  {
   "cell_type": "code",
   "execution_count": null,
   "metadata": {
    "collapsed": true
   },
   "outputs": [],
   "source": [
    "def _read_record(filename_queue):\n",
    "        \n",
    "    class FrameSeqRecord(object):\n",
    "        pass\n",
    "\n",
    "    record = FrameSeqRecord()\n",
    "    record.height = IMAGE_SIZE[0]\n",
    "    record.width = IMAGE_SIZE[1]\n",
    "    record.depth = IMAGE_SIZE[2]\n",
    "\n",
    "    frame_bytes = record.height * record.width * record.depth\n",
    "    record_bytes = frame_bytes * (SEQ_LENGTH)\n",
    "    total_file_bytes = frame_bytes * SEQ_LENGTH\n",
    "\n",
    "    with tf.name_scope('read_record'):\n",
    "        reader = tf.FixedLengthRecordReader(total_file_bytes)\n",
    "\n",
    "        record.key, value = reader.read(filename_queue)\n",
    "        decoded_record_bytes = tf.decode_raw(value, tf.uint8)\n",
    "\n",
    "        record.data = tf.reshape(decoded_record_bytes,\n",
    "                                 [SEQ_LENGTH, record.height, record.width, record.depth])\n",
    "        return record"
   ]
  },
  {
   "cell_type": "code",
   "execution_count": null,
   "metadata": {
    "collapsed": false
   },
   "outputs": [],
   "source": [
    "def get_batch(batch_size):\n",
    "    with tf.name_scope('preprocessing'):\n",
    "        filename_queue = tf.train.string_input_producer(seq_list)\n",
    "        seq_record = _read_record(filename_queue)  \n",
    "\n",
    "        # convert to float of scale [0.0, 1.0]\n",
    "        seq_data = tf.cast(seq_record.data, tf.float32)\n",
    "        seq_data = seq_data / 255\n",
    "\n",
    "        if DO_DISTORTION:\n",
    "            with tf.name_scope('distortion'):\n",
    "                images_to_distort = tf.unpack(seq_data)\n",
    "\n",
    "                distorted_images = tt.image.equal_random_distortion(images_to_distort)\n",
    "                sequence_inputs = tf.pack(distorted_images, axis=0)\n",
    "        else:\n",
    "            sequence_inputs = seq_data\n",
    "\n",
    "    return tt.inputs.generate_batch(sequence_inputs, sequence_inputs,\n",
    "                                    batch_size,\n",
    "                                    16, 32,\n",
    "                                    shuffle=True, num_threads=4)"
   ]
  },
  {
   "cell_type": "code",
   "execution_count": null,
   "metadata": {
    "collapsed": false
   },
   "outputs": [],
   "source": [
    "with tf.device(\"/cpu:0\"):\n",
    "    bx, _ = get_batch(4)\n",
    "\n",
    "with tf.Session() as sess:\n",
    "    coord = tf.train.Coordinator()\n",
    "    threads = tf.train.start_queue_runners(sess=sess, coord=coord)\n",
    "    print(\"Starting queue runners...\")\n",
    "    x = sess.run(bx)\n",
    "    \n",
    "    coord.request_stop()\n",
    "    coord.join(threads)\n",
    "    \n",
    "    for i in range(x.shape[0]):\n",
    "        tt.visualization.display_batch(x[i], ncols=5, nrows=2, title=str(i))"
   ]
  },
  {
   "cell_type": "markdown",
   "metadata": {},
   "source": [
    "### Show test *.seq file"
   ]
  },
  {
   "cell_type": "code",
   "execution_count": null,
   "metadata": {
    "collapsed": true
   },
   "outputs": [],
   "source": [
    "binary_data = tt.utils.image.read_as_binary(\"assets/test_30_240_320_3.seq\")\n",
    "print(\"Binary-shape:\", binary_data.shape)\n",
    "\n",
    "images = np.reshape(binary_data, (-1, 240, 320, 3))\n",
    "print(\"Images-shape:\", images.shape)\n",
    "\n",
    "tt.visualization.display_batch(images, ncols=5, nrows=2)"
   ]
  }
 ],
 "metadata": {
  "kernelspec": {
   "display_name": "Python 2",
   "language": "python",
   "name": "python2"
  },
  "language_info": {
   "codemirror_mode": {
    "name": "ipython",
    "version": 2
   },
   "file_extension": ".py",
   "mimetype": "text/x-python",
   "name": "python",
   "nbconvert_exporter": "python",
   "pygments_lexer": "ipython2",
   "version": "2.7.6"
  }
 },
 "nbformat": 4,
 "nbformat_minor": 0
}
