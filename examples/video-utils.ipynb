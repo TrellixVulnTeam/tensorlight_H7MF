{
 "cells": [
  {
   "cell_type": "markdown",
   "metadata": {},
   "source": [
    "# Video Utils Example\n",
    "\n",
    "This example demonstrates the usage of the tensortools.utils.image module."
   ]
  },
  {
   "cell_type": "code",
   "execution_count": null,
   "metadata": {
    "collapsed": false
   },
   "outputs": [],
   "source": [
    "# Force matplotlib to use inline rendering\n",
    "%matplotlib inline\n",
    "\n",
    "import os\n",
    "import sys\n",
    "\n",
    "# add path to libraries for ipython\n",
    "sys.path.append(os.path.expanduser(\"~/libs\"))\n",
    "\n",
    "import numpy as np\n",
    "import tensortools as tt"
   ]
  },
  {
   "cell_type": "markdown",
   "metadata": {},
   "source": [
    "### GIF animations"
   ]
  },
  {
   "cell_type": "code",
   "execution_count": null,
   "metadata": {
    "collapsed": false
   },
   "outputs": [],
   "source": [
    "im1 = np.random.rand(64,64,1) * 255\n",
    "im2 = np.random.rand(64,64,1) * 255 \n",
    "im3 = np.random.rand(64,64,1) * 255\n",
    "im4 = np.random.rand(64,64,1) * 255\n",
    "\n",
    "images = [im1, im2, im3, im4]\n",
    "\n",
    "tt.utils.video.write_gif(\"out/gif-anim1.gif\", images, fps=10)"
   ]
  },
  {
   "cell_type": "code",
   "execution_count": null,
   "metadata": {
    "collapsed": false
   },
   "outputs": [],
   "source": [
    "seq = np.random.rand(8,64,64,3) * 255\n",
    "\n",
    "tt.utils.video.write_gif(\"out/gif-anim2.gif\", seq, fps=10)"
   ]
  },
  {
   "cell_type": "code",
   "execution_count": null,
   "metadata": {
    "collapsed": false
   },
   "outputs": [],
   "source": [
    "im1a = np.random.rand(64,64,3) * 255\n",
    "im2a = np.random.rand(64,64,3) * 255 \n",
    "im3a = np.random.rand(64,64,3) * 255\n",
    "im4a = np.random.rand(64,64,3) * 255\n",
    "\n",
    "im1b = np.random.rand(64,64,3) * 128\n",
    "im2b = np.random.rand(64,64,3) * 128 \n",
    "im3b = np.random.rand(64,64,3) * 128\n",
    "im4b = np.random.rand(64,64,3) * 128\n",
    "\n",
    "images_a = [im1a, im2a, im3a, im4a]\n",
    "images_b = [im1b, im2b, im3b, im4b]\n",
    "\n",
    "tt.utils.video.write_multi_gif(\"out/gif-anim3.gif\", [images_a, images_b], fps=10)"
   ]
  },
  {
   "cell_type": "code",
   "execution_count": null,
   "metadata": {
    "collapsed": false
   },
   "outputs": [],
   "source": [
    "seq1 = np.random.rand(8,64,64,3) * 255\n",
    "seq2 = np.random.rand(8,64,64,3) * 128\n",
    "seq3 = np.random.rand(8,64,64,3) * 255\n",
    "\n",
    "tt.utils.video.write_multi_gif(\"out/gif-anim4.gif\", [seq1, seq2, seq3], fps=10,\n",
    "                                   pad_value=255, pad_width=4)"
   ]
  },
  {
   "cell_type": "markdown",
   "metadata": {
    "collapsed": true
   },
   "source": [
    "### Image sequence"
   ]
  },
  {
   "cell_type": "code",
   "execution_count": null,
   "metadata": {
    "collapsed": false
   },
   "outputs": [],
   "source": [
    "im1 = np.random.rand(64,64,1) * 255\n",
    "im2 = np.random.rand(64,64,1) * 255 \n",
    "im3 = np.random.rand(64,64,1) * 255\n",
    "im4 = np.random.rand(64,64,1) * 255\n",
    "\n",
    "images = [im1, im2, im3, im4]\n",
    "\n",
    "tt.utils.video.write_image_sequence(\"out/img-seq1.png\", images)"
   ]
  },
  {
   "cell_type": "code",
   "execution_count": null,
   "metadata": {
    "collapsed": true
   },
   "outputs": [],
   "source": [
    "seq = np.random.rand(8,64,64,3) * 255\n",
    "\n",
    "tt.utils.video.write_image_sequence(\"out/img-seq2.png\", seq)"
   ]
  },
  {
   "cell_type": "code",
   "execution_count": null,
   "metadata": {
    "collapsed": false
   },
   "outputs": [],
   "source": [
    "im1a = np.random.rand(64,64,3) * 255\n",
    "im2a = np.random.rand(64,64,3) * 255 \n",
    "im3a = np.random.rand(64,64,3) * 255\n",
    "im4a = np.random.rand(64,64,3) * 255\n",
    "\n",
    "im1b = np.random.rand(64,64,3) * 128\n",
    "im2b = np.random.rand(64,64,3) * 128 \n",
    "im3b = np.random.rand(64,64,3) * 128\n",
    "im4b = np.random.rand(64,64,3) * 128\n",
    "\n",
    "images_a = [im1a, im2a, im3a, im4a]\n",
    "images_b = [im1b, im2b, im3b, im4b]\n",
    "\n",
    "tt.utils.video.write_multi_image_sequence(\"out/img-seq3.png\", [images_a, images_b])"
   ]
  },
  {
   "cell_type": "code",
   "execution_count": null,
   "metadata": {
    "collapsed": true
   },
   "outputs": [],
   "source": [
    "seq1 = np.random.rand(8,64,64,3) * 255\n",
    "seq2 = np.random.rand(8,64,64,3) * 128\n",
    "seq3 = np.random.rand(8,64,64,3) * 255\n",
    "\n",
    "tt.utils.video.write_multi_image_sequence(\"out/img-seq4.png\", [seq1, seq2, seq3])"
   ]
  },
  {
   "cell_type": "code",
   "execution_count": null,
   "metadata": {
    "collapsed": true
   },
   "outputs": [],
   "source": []
  }
 ],
 "metadata": {
  "kernelspec": {
   "display_name": "Python 2",
   "language": "python",
   "name": "python2"
  },
  "language_info": {
   "codemirror_mode": {
    "name": "ipython",
    "version": 2
   },
   "file_extension": ".py",
   "mimetype": "text/x-python",
   "name": "python",
   "nbconvert_exporter": "python",
   "pygments_lexer": "ipython2",
   "version": "2.7.6"
  }
 },
 "nbformat": 4,
 "nbformat_minor": 0
}
