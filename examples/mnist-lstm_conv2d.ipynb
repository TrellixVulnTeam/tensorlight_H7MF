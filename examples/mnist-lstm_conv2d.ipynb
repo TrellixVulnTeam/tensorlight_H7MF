{
 "cells": [
  {
   "cell_type": "markdown",
   "metadata": {},
   "source": [
    "# MNIST LSTMConv2D Example\n",
    "Adapted from [github: TensorFlow Examples](https://github.com/aymericdamien/TensorFlow-Examples/blob/master/notebooks/3_NeuralNetworks/recurrent_network.ipynb).\n",
    "\n",
    "Uses a custom LSTM cell that implements the LSTMConv2D op like in Keras.\n",
    "\n",
    "\n",
    "# TODO\n",
    "\n",
    "- Metric: Round values, percentage of correctly \"classified\"\n",
    "- RNNConv2dCell: Initial-state: conv_step ?"
   ]
  },
  {
   "cell_type": "code",
   "execution_count": null,
   "metadata": {
    "collapsed": false
   },
   "outputs": [],
   "source": [
    "from __future__ import print_function\n",
    "\n",
    "import os\n",
    "import sys\n",
    "\n",
    "# add path to libraries for ipython\n",
    "sys.path.append(os.path.expanduser(\"~/libs\"))\n",
    "\n",
    "import random\n",
    "\n",
    "import numpy as np\n",
    "import tensorflow as tf\n",
    "import tensortools as tt"
   ]
  },
  {
   "cell_type": "code",
   "execution_count": null,
   "metadata": {
    "collapsed": true
   },
   "outputs": [],
   "source": [
    "BATCH_SIZE = 32\n",
    "NUM_EXAMPES = 10000\n",
    "\n",
    "TRAIN_EXAMPLES = 6000\n",
    "TEST_EXAMPLES = 1000\n",
    "\n",
    "LEARGNING_RATE = 0.001\n",
    "DISPLAY_STEP = 10\n",
    "\n",
    "TIME_STEPS = 10\n",
    "KERNEL_FILTERS = 128\n",
    "KERNEL_SIZE = 3\n",
    "IMAGE_SIZE = 28\n",
    "CHANNELS = 1\n",
    "EPOCHS = 10"
   ]
  },
  {
   "cell_type": "markdown",
   "metadata": {
    "collapsed": false
   },
   "source": [
    "### Input data"
   ]
  },
  {
   "cell_type": "code",
   "execution_count": null,
   "metadata": {
    "collapsed": false
   },
   "outputs": [],
   "source": [
    "class MovingBlocksInput(object):\n",
    "    \n",
    "    def __init__(self, width, height, channels):\n",
    "        self.train_data_list = []\n",
    "        self.train_labels_list = []\n",
    "        self.test_data_list = []\n",
    "        self.test_labels_list = []\n",
    "        self.train_counter = 0\n",
    "        self.test_counter = 0\n",
    "        self.image_width = width\n",
    "        self.image_height = height\n",
    "        self.image_channels = channels\n",
    "\n",
    "\n",
    "    def _generate_image(self, positions):\n",
    "        image = np.random.uniform(-1, -0.5, (self.image_height, self.image_width, self.image_channels))\n",
    "        for p_idx in xrange(len(positions)):\n",
    "            position = positions[p_idx]\n",
    "            for x in xrange(position[0]-2, position[0] + 4):\n",
    "                if x < 0 or x >= self.image_width:\n",
    "                    continue\n",
    "                for y in xrange(position[1] - 2, position[1] + 4):\n",
    "                    if y < 0 or y >= self.image_height:\n",
    "                        continue\n",
    "                    image[y, x, 0] = 1.0\n",
    "        return image\n",
    "    \n",
    "    \n",
    "    def _generate_single_sequence(self, time_steps):\n",
    "        x_pos1 = random.randint(0, self.image_width)\n",
    "        y_pos1 = random.randint(0, self.image_height)\n",
    "        x_step1 = random.randint(-2, 3)\n",
    "        y_step1 = random.randint(-2, 3)\n",
    "        x_pos2 = random.randint(0, self.image_width)\n",
    "        y_pos2 = random.randint(0, self.image_height)\n",
    "        x_step2 = random.randint(-2, 3)\n",
    "        y_step2 = random.randint(-2, 3)\n",
    "        x_pos3 = random.randint(0, self.image_width)\n",
    "        y_pos3 = random.randint(0, self.image_height)\n",
    "        x_step3 = random.randint(-2, 3)\n",
    "        y_step3 = random.randint(-2, 3)\n",
    "        current_list = []\n",
    "        for t in xrange(time_steps):\n",
    "            pos_list = [(x_pos1, y_pos1), (x_pos2, y_pos2), (x_pos3, y_pos3)]\n",
    "            image = self._generate_image(pos_list)\n",
    "            current_list.append(image)\n",
    "            x_pos1 += x_step1\n",
    "            y_pos1 += y_step1\n",
    "            x_pos2 += x_step2\n",
    "            y_pos2 += y_step2\n",
    "            x_pos3 += x_step3\n",
    "            y_pos3 += y_step3\n",
    "        pos_list = [(x_pos1, y_pos1), (x_pos2, y_pos2), (x_pos3, y_pos3)]\n",
    "        label = self._generate_image(pos_list)\n",
    "        return np.array(current_list), label\n",
    "    \n",
    "    \n",
    "    def generate_data(self, nb_train, nb_test, time_steps):\n",
    "        for i in xrange(nb_train):\n",
    "            seq, label = self._generate_single_sequence(time_steps)\n",
    "            self.train_data_list.append(seq)\n",
    "            self.train_labels_list.append(label)\n",
    "        self.train_data_list = np.asarray(self.train_data_list)\n",
    "        self.train_labels_list = np.asarray(self.train_labels_list)\n",
    "        for j in xrange(nb_test):\n",
    "            seq, label = self._generate_single_sequence(time_steps)\n",
    "            self.test_data_list.append(seq)\n",
    "            self.test_labels_list.append(label)\n",
    "        self.test_data_list = np.asarray(self.test_data_list)\n",
    "        self.test_labels_list = np.asarray(self.test_labels_list)\n",
    " \n",
    "\n",
    "    def get_train_batch(self, batch_size):\n",
    "        if self.train_counter + batch_size > len(self.train_data_list):\n",
    "            self.train_counter = 0\n",
    "            # shuffle  \n",
    "            p = np.random.permutation(len(self.train_data_list))\n",
    "            train_data_list = self.train_data_list[p]\n",
    "            train_labels_list = self.train_labels_list[p]\n",
    "\n",
    "        res_data = self.train_data_list[self.train_counter:self.train_counter+batch_size]\n",
    "        res_labels = self.train_labels_list[self.train_counter:self.train_counter+batch_size]\n",
    "\n",
    "        self.train_counter += batch_size\n",
    "        return res_data, res_labels\n",
    "    \n",
    "    \n",
    "    def get_test_batch(self, batch_size):\n",
    "        self.test_counter = self.test_counter\n",
    "        if self.test_counter + batch_size > len(self.test_data_list):\n",
    "            self.test_counter = 0\n",
    "            # shuffle  \n",
    "            p = np.random.permutation(len(self.test_data_list))\n",
    "            self.test_data_list = self.test_data_list[p]\n",
    "            self.test_labels_list = self.test_labels_list[p]\n",
    "\n",
    "        res_data = self.test_data_list[self.test_counter:self.test_counter+batch_size]\n",
    "        res_labels = self.test_labels_list[self.test_counter:self.test_counter+batch_size]\n",
    "\n",
    "        self.test_counter += batch_size\n",
    "        return res_data, res_labels"
   ]
  },
  {
   "cell_type": "markdown",
   "metadata": {},
   "source": [
    "### Graph construction"
   ]
  },
  {
   "cell_type": "code",
   "execution_count": null,
   "metadata": {
    "collapsed": false
   },
   "outputs": [],
   "source": [
    "g = tf.Graph()"
   ]
  },
  {
   "cell_type": "code",
   "execution_count": null,
   "metadata": {
    "collapsed": false
   },
   "outputs": [],
   "source": [
    "def RNN(x):\n",
    "    # Prepare data shape to match `rnn` function requirements\n",
    "    # Current data input shape: (batch_size, n_steps, n_input)\n",
    "    # Required shape: 'n_steps' tensors list of shape (batch_size, n_input)\n",
    "    # Permuting batch_size and n_steps\n",
    "    x = tf.transpose(x, [1, 0, 2, 3, 4])  # (time_steps, batch_size, )\n",
    "    # Reshaping to (n_steps*batch_size, n_input)\n",
    "    #x = tf.reshape(x, [-1, N_INPUT])\n",
    "    # Split to get a list of 'n_steps' tensors of shape (batch_size, n_input)\n",
    "    x = tf.split(0, TIME_STEPS, x)\n",
    "    x = [tf.squeeze(i, (0,)) for i in x]\n",
    "\n",
    "    # Define a lstm cell with tensorflow\n",
    "    lstm_cell = tt.recurrent.BasicLSTMConv2DCell(3, 3, 32,\n",
    "                                                 IMAGE_SIZE, IMAGE_SIZE,\n",
    "                                                 forget_bias=1.0,\n",
    "                                                 inner_activation=tt.network.hard_sigmoid)\n",
    "    # Get lstm cell output\n",
    "    outputs, states = tt.recurrent.rnn_conv2d(lstm_cell, x, dtype=tf.float32)\n",
    "\n",
    "    # Linear activation, using rnn inner loop last output\n",
    "    return outputs[-1]"
   ]
  },
  {
   "cell_type": "code",
   "execution_count": null,
   "metadata": {
    "collapsed": false
   },
   "outputs": [],
   "source": [
    "with g.as_default():\n",
    "    x = tf.placeholder(tf.float32, [None, TIME_STEPS, IMAGE_SIZE, IMAGE_SIZE, CHANNELS], \"X\")\n",
    "    y_ = tf.placeholder(tf.float32, [None, IMAGE_SIZE, IMAGE_SIZE, CHANNELS], \"Y_\")\n",
    "\n",
    "    out = RNN(x)\n",
    "    \n",
    "    pred = tt.network.conv2d_transpose(\"Deconv\", out, 1, 3, 3, 1, 1)"
   ]
  },
  {
   "cell_type": "code",
   "execution_count": null,
   "metadata": {
    "collapsed": false
   },
   "outputs": [],
   "source": [
    "with g.as_default():\n",
    "    with tf.name_scope(\"Train\"):\n",
    "        cost = tf.reduce_mean(tf.square(pred - y_))\n",
    "        optimizer = tf.train.AdamOptimizer(learning_rate=LEARGNING_RATE).minimize(cost)\n",
    "\n",
    "    with tf.name_scope(\"Accuracy\"):\n",
    "        correct_pred = tf.equal(tf.argmax(pred,1), tf.argmax(y_,1))\n",
    "        accuracy = tf.reduce_mean(tf.cast(correct_pred, tf.float32))    "
   ]
  },
  {
   "cell_type": "code",
   "execution_count": null,
   "metadata": {
    "collapsed": false
   },
   "outputs": [],
   "source": [
    "with g.as_default():\n",
    "    # Launch the graph\n",
    "    sess = tf.InteractiveSession()\n",
    "    sess.run(tf.initialize_all_variables())\n",
    "\n",
    "    tt.visualization.show_graph(sess.graph_def)\n",
    "\n",
    "    # TODO: remove\n",
    "    inputs = MovingBlocksInput(IMAGE_SIZE, IMAGE_SIZE, CHANNELS)\n",
    "    inputs.generate_data(TRAIN_EXAMPLES, TEST_EXAMPLES, TIME_STEPS)\n",
    "\n",
    "    step = 1\n",
    "    # Keep training until reach max iterations\n",
    "    while step * BATCH_SIZE < NUM_EXAMPES:\n",
    "        batch_x, batch_y = inputs.get_train_batch(BATCH_SIZE)\n",
    "        \n",
    "        # Run optimization op (backprop)\n",
    "        sess.run(optimizer, feed_dict={x: batch_x, y_: batch_y})\n",
    "        if step % DISPLAY_STEP == 0:\n",
    "            # Calculate batch accuracy\n",
    "            acc = sess.run(accuracy, feed_dict={x: batch_x, y_: batch_y})\n",
    "            # Calculate batch loss\n",
    "            loss = sess.run(cost, feed_dict={x: batch_x, y_: batch_y})\n",
    "            print(\"@{} - {}/{} examples: Minibatch Loss= {:.6f}, Training Accuracy= {:.5f}\".format(\n",
    "                    step,\n",
    "                    str(step*BATCH_SIZE),\n",
    "                    NUM_EXAMPES,\n",
    "                    loss,\n",
    "                    acc))\n",
    "\n",
    "        step += 1\n",
    "    print(\"Optimization Finished!\")"
   ]
  },
  {
   "cell_type": "code",
   "execution_count": null,
   "metadata": {
    "collapsed": false
   },
   "outputs": [],
   "source": [
    "with g.as_default():\n",
    "    batch_x, batch_y = inputs.get_test_batch(1)\n",
    "    \n",
    "    # remove batch_dim\n",
    "    batch_x = np.squeeze(batch_x, axis=0)\n",
    "    batch_y = np.squeeze(batch_y, axis=0)   \n",
    "    \n",
    "    print('IN:')\n",
    "    for i in range(TIME_STEPS):\n",
    "        #print_image(test_x[i])\n",
    "        tt.visualization.display_array(batch_x[i] * 127.5 + 127.5)\n",
    "    print('TARGET:')\n",
    "    #print_image(test_y)\n",
    "    tt.visualization.display_array(batch_y * 127.5 + 127.5)\n",
    "    print('PREDICTION:')\n",
    "    batch_x = np.expand_dims(batch_x, axis=0)\n",
    "    batch_y = np.expand_dims(batch_y, axis=0)\n",
    "    prediction, acc = sess.run([pred, accuracy], feed_dict={x: batch_x, y_: batch_y})\n",
    "    prediction_squeezed = np.squeeze(prediction, axis=0)\n",
    "    #print_image(prediction_squeezed)\n",
    "    tt.visualization.display_array(prediction_squeezed * 127.5 + 127.5)\n",
    "    print('Test accuracy', acc)"
   ]
  },
  {
   "cell_type": "code",
   "execution_count": null,
   "metadata": {
    "collapsed": true
   },
   "outputs": [],
   "source": []
  }
 ],
 "metadata": {
  "kernelspec": {
   "display_name": "Python 2",
   "language": "python",
   "name": "python2"
  },
  "language_info": {
   "codemirror_mode": {
    "name": "ipython",
    "version": 2
   },
   "file_extension": ".py",
   "mimetype": "text/x-python",
   "name": "python",
   "nbconvert_exporter": "python",
   "pygments_lexer": "ipython2",
   "version": "2.7.6"
  }
 },
 "nbformat": 4,
 "nbformat_minor": 0
}
