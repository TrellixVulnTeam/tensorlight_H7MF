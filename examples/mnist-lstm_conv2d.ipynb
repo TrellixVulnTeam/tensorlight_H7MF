{
 "cells": [
  {
   "cell_type": "markdown",
   "metadata": {},
   "source": [
    "# MNIST LSTMConv2D Example\n",
    "Adapted from [github: TensorFlow Examples](https://github.com/aymericdamien/TensorFlow-Examples/blob/master/notebooks/3_NeuralNetworks/recurrent_network.ipynb).\n",
    "\n",
    "Uses a custom LSTM cell that implements the LSTMConv2D op like in Keras.\n",
    "\n",
    "\n",
    "# TODO\n",
    "\n",
    "- Batching of input data\n",
    "- Visualization (tt.visualization), e.g. draw image\n",
    "- Metric: Round values, percentage of correctly \"classified\"\n",
    "- RNNConv2dCell: Initial-state: conv_step ?"
   ]
  },
  {
   "cell_type": "code",
   "execution_count": null,
   "metadata": {
    "collapsed": false
   },
   "outputs": [],
   "source": [
    "from __future__ import print_function\n",
    "\n",
    "import os\n",
    "import sys\n",
    "\n",
    "# add path to libraries for ipython\n",
    "sys.path.append(os.path.expanduser(\"~/libs\"))\n",
    "\n",
    "import random\n",
    "import numpy as np\n",
    "import tensorflow as tf\n",
    "import tensortools as tt"
   ]
  },
  {
   "cell_type": "code",
   "execution_count": null,
   "metadata": {
    "collapsed": true
   },
   "outputs": [],
   "source": [
    "BATCH_SIZE = 128\n",
    "NUM_EXAMPES = 10000\n",
    "LEARGNING_RATE = 0.001\n",
    "DISPLAY_STEP = 10\n",
    "\n",
    "TIME_STEPS = 10\n",
    "KERNEL_FILTERS = 1\n",
    "KERNEL_SIZE = 3\n",
    "IMAGE_SIZE = 28\n",
    "CHANNELS = 1\n",
    "EPOCHS = 10"
   ]
  },
  {
   "cell_type": "markdown",
   "metadata": {
    "collapsed": false
   },
   "source": [
    "### Input data"
   ]
  },
  {
   "cell_type": "code",
   "execution_count": null,
   "metadata": {
    "collapsed": false
   },
   "outputs": [],
   "source": [
    "def print_image(image):\n",
    "    print('----------')\n",
    "    for y in xrange(IMAGE_SIZE):\n",
    "        for x in xrange(IMAGE_SIZE):\n",
    "            val = image[y, x, 0]\n",
    "            sign = '.'\n",
    "            if (val > 0.25):\n",
    "                sign = 'x'\n",
    "            if (val > 0.5):\n",
    "                sign = 'X'\n",
    "            if (val < 0.25):\n",
    "                sign = 'o'\n",
    "            if (val < 0.5):\n",
    "                sign = 'O'    \n",
    "            print(sign, end='')\n",
    "        print()"
   ]
  },
  {
   "cell_type": "code",
   "execution_count": null,
   "metadata": {
    "collapsed": true
   },
   "outputs": [],
   "source": [
    "def generate_image(positions):\n",
    "    image = np.zeros((IMAGE_SIZE, IMAGE_SIZE, 1))\n",
    "\n",
    "    for p_idx in xrange(len(positions)):\n",
    "        position = positions[p_idx]\n",
    "        for x in xrange(position[0]-2, position[0] + 4):\n",
    "            if x < 0 or x >= IMAGE_SIZE:\n",
    "                continue\n",
    "            for y in xrange(position[1] - 2, position[1] + 4):\n",
    "                if y < 0 or y >= IMAGE_SIZE:\n",
    "                    continue\n",
    "                image[y, x, 0] = 1.0\n",
    "\n",
    "    return image"
   ]
  },
  {
   "cell_type": "code",
   "execution_count": null,
   "metadata": {
    "collapsed": true
   },
   "outputs": [],
   "source": [
    "def generate_single_sequence():\n",
    "    x_pos1 = random.randint(0, IMAGE_SIZE)\n",
    "    y_pos1 = random.randint(0, IMAGE_SIZE)\n",
    "    x_step1 = random.randint(-2, 3)\n",
    "    y_step1 = random.randint(-2, 3)\n",
    "    x_pos2 = random.randint(0, IMAGE_SIZE)\n",
    "    y_pos2 = random.randint(0, IMAGE_SIZE)\n",
    "    x_step2 = random.randint(-2, 3)\n",
    "    y_step2 = random.randint(-2, 3)\n",
    "    x_pos3 = random.randint(0, IMAGE_SIZE)\n",
    "    y_pos3 = random.randint(0, IMAGE_SIZE)\n",
    "    x_step3 = random.randint(-2, 3)\n",
    "    y_step3 = random.randint(-2, 3)\n",
    "    current_list = []\n",
    "    for t in xrange(TIME_STEPS):\n",
    "        pos_list = [(x_pos1, y_pos1), (x_pos2, y_pos2), (x_pos3, y_pos3)]\n",
    "        image = generate_image(pos_list)\n",
    "        current_list.append(image)\n",
    "        x_pos1 += x_step1\n",
    "        y_pos1 += y_step1\n",
    "        x_pos2 += x_step2\n",
    "        y_pos2 += y_step2\n",
    "        x_pos3 += x_step3\n",
    "        y_pos3 += y_step3\n",
    "    pos_list = [(x_pos1, y_pos1), (x_pos2, y_pos2), (x_pos3, y_pos3)]\n",
    "    label = generate_image(pos_list)\n",
    "    return np.array(current_list), label"
   ]
  },
  {
   "cell_type": "code",
   "execution_count": null,
   "metadata": {
    "collapsed": true
   },
   "outputs": [],
   "source": [
    "def generate_data(nb_train=600, nb_test=100):\n",
    "    train_data_list = []\n",
    "    train_labels_list = []\n",
    "    test_data_list = []\n",
    "    test_labels_list = []\n",
    "\n",
    "    for i in xrange(nb_train):\n",
    "        seq, label = generate_single_sequence()\n",
    "        train_data_list.append(seq)\n",
    "        train_labels_list.append(label)\n",
    "    train_data_list = np.asarray(train_data_list)\n",
    "    train_labels_list = np.asarray(train_labels_list)\n",
    "\n",
    "    for j in xrange(nb_test):\n",
    "        seq, label = generate_single_sequence()\n",
    "        test_data_list.append(seq)\n",
    "        test_labels_list.append(label)\n",
    "    test_data_list = np.asarray(test_data_list)\n",
    "    test_labels_list = np.asarray(test_labels_list)\n",
    "\n",
    "    return (train_data_list, train_labels_list), (test_data_list, test_labels_list)"
   ]
  },
  {
   "cell_type": "code",
   "execution_count": null,
   "metadata": {
    "collapsed": true
   },
   "outputs": [],
   "source": [
    "def inputs():\n",
    "    # the data, shuffled and split between train and test sets\n",
    "    (X_train, y_train), (X_test, y_test) = generate_data()\n",
    "    print('')\n",
    "    print('X_train shape:', X_train.shape)\n",
    "    print('y_train shape:', y_train.shape)\n",
    "    print('X_test shape:', X_test.shape)\n",
    "    print('y_test shape:', y_test.shape)\n",
    "    print(X_train.shape[0], 'train samples')\n",
    "    print(X_test.shape[0], 'test samples')\n",
    "\n",
    "    Y_train = y_train\n",
    "    Y_test = y_test\n",
    "\n",
    "    print(Y_train.shape[0], 'train labels')\n",
    "    print(Y_test.shape[0], 'test labels')\n",
    "\n",
    "    return (X_train, Y_train), (X_test, Y_test)"
   ]
  },
  {
   "cell_type": "markdown",
   "metadata": {},
   "source": [
    "### Graph construction"
   ]
  },
  {
   "cell_type": "code",
   "execution_count": null,
   "metadata": {
    "collapsed": false
   },
   "outputs": [],
   "source": [
    "g = tf.Graph()"
   ]
  },
  {
   "cell_type": "code",
   "execution_count": null,
   "metadata": {
    "collapsed": false
   },
   "outputs": [],
   "source": [
    "def RNN(x):\n",
    "    # Prepare data shape to match `rnn` function requirements\n",
    "    # Current data input shape: (batch_size, n_steps, n_input)\n",
    "    # Required shape: 'n_steps' tensors list of shape (batch_size, n_input)\n",
    "    print(x.get_shape())\n",
    "    # Permuting batch_size and n_steps\n",
    "    x = tf.transpose(x, [1, 0, 2, 3, 4])  # (time_steps, batch_size, )\n",
    "    print(x.get_shape())\n",
    "    # Reshaping to (n_steps*batch_size, n_input)\n",
    "    #x = tf.reshape(x, [-1, N_INPUT])\n",
    "    # Split to get a list of 'n_steps' tensors of shape (batch_size, n_input)\n",
    "    x = tf.split(0, TIME_STEPS, x)\n",
    "    print(x[0].get_shape())\n",
    "    x = [tf.squeeze(i, (0,)) for i in x]\n",
    "    print(x[0].get_shape())\n",
    "\n",
    "    # Define a lstm cell with tensorflow\n",
    "    lstm_cell = tt.recurrent.BasicLSTMConv2DCell(3, 3, 32,\n",
    "                                                 IMAGE_SIZE, IMAGE_SIZE,\n",
    "                                                 forget_bias=1.0)\n",
    "\n",
    "    # Get lstm cell output\n",
    "    outputs, states = tt.recurrent.rnn_conv2d(lstm_cell, x, dtype=tf.float32)\n",
    "\n",
    "    # Linear activation, using rnn inner loop last output\n",
    "    return outputs[-1]"
   ]
  },
  {
   "cell_type": "code",
   "execution_count": null,
   "metadata": {
    "collapsed": false
   },
   "outputs": [],
   "source": [
    "with g.as_default():\n",
    "    x = tf.placeholder(tf.float32, [None, TIME_STEPS, IMAGE_SIZE, IMAGE_SIZE, CHANNELS], \"X\")\n",
    "    y_ = tf.placeholder(tf.float32, [None, IMAGE_SIZE, IMAGE_SIZE, CHANNELS], \"Y_\")\n",
    "\n",
    "    out = RNN(x)\n",
    "    \n",
    "    pred = tt.network.conv2d_transpose(\"Deconv\", out, 1, 3, 3, 1, 1)"
   ]
  },
  {
   "cell_type": "code",
   "execution_count": null,
   "metadata": {
    "collapsed": false
   },
   "outputs": [],
   "source": [
    "with g.as_default():\n",
    "    with tf.name_scope(\"Train\"):\n",
    "        cost = tf.reduce_mean(tf.square(pred - y_))\n",
    "        optimizer = tf.train.AdamOptimizer(learning_rate=LEARGNING_RATE).minimize(cost)\n",
    "\n",
    "    with tf.name_scope(\"Accuracy\"):\n",
    "        correct_pred = tf.equal(tf.argmax(pred,1), tf.argmax(y_,1))\n",
    "        accuracy = tf.reduce_mean(tf.cast(correct_pred, tf.float32))    "
   ]
  },
  {
   "cell_type": "code",
   "execution_count": null,
   "metadata": {
    "collapsed": false
   },
   "outputs": [],
   "source": [
    "with g.as_default():\n",
    "    # Launch the graph\n",
    "    with tf.Session() as sess:\n",
    "        sess.run(tf.initialize_all_variables())\n",
    "        \n",
    "        tt.visualization.show_graph(sess.graph_def)\n",
    "        \n",
    "        # TODO: remove\n",
    "        train, test = inputs()\n",
    "        batch_x = train[0][0:BATCH_SIZE]\n",
    "        batch_y = train[1][0:BATCH_SIZE] \n",
    "        \n",
    "        step = 1\n",
    "        # Keep training until reach max iterations\n",
    "        while step * BATCH_SIZE < NUM_EXAMPES:\n",
    "            # TODO: implement real batching! Here: overfitting on same samples\n",
    "            #batch_x, batch_y = mnist.train.next_batch(BATCH_SIZE)\n",
    "            #batch_x = train[0][0:BATCH_SIZE]\n",
    "            #batch_y = train[1][0:BATCH_SIZE] \n",
    "            \n",
    "            # Run optimization op (backprop)\n",
    "            sess.run(optimizer, feed_dict={x: batch_x, y_: batch_y})\n",
    "            if step % DISPLAY_STEP == 0:\n",
    "                # Calculate batch accuracy\n",
    "                acc = sess.run(accuracy, feed_dict={x: batch_x, y_: batch_y})\n",
    "                # Calculate batch loss\n",
    "                loss = sess.run(cost, feed_dict={x: batch_x, y_: batch_y})\n",
    "                print(\"@{}: Minibatch Loss= {:.6f}, Training Accuracy= {:.5f}\".format(\n",
    "                        str(step*BATCH_SIZE), loss, acc))\n",
    "                \n",
    "            step += 1\n",
    "        print(\"Optimization Finished!\")\n",
    "\n",
    "        test_x = test[0][0]\n",
    "        test_y = test[1][0] \n",
    "        \n",
    "        print('  --> IN:')\n",
    "        for i in range(TIME_STEPS):\n",
    "            print_image(test_x[i])\n",
    "        print('  --> SOLL-OUT:')\n",
    "        print_image(test_y)\n",
    "        print('  --> IS-OUT:')\n",
    "        test_x = np.expand_dims(test_x, axis=0)\n",
    "        test_y = np.expand_dims(test_y, axis=0)\n",
    "        prediction, acc = sess.run([pred, accuracy], feed_dict={x: test_x, y_: test_y})\n",
    "        print('Test accuracy', acc)\n",
    "        prediction_squeezed = np.squeeze(prediction, axis=0)\n",
    "        print_image(prediction_squeezed)"
   ]
  },
  {
   "cell_type": "code",
   "execution_count": null,
   "metadata": {
    "collapsed": true
   },
   "outputs": [],
   "source": []
  }
 ],
 "metadata": {
  "kernelspec": {
   "display_name": "Python 2",
   "language": "python",
   "name": "python2"
  },
  "language_info": {
   "codemirror_mode": {
    "name": "ipython",
    "version": 2
   },
   "file_extension": ".py",
   "mimetype": "text/x-python",
   "name": "python",
   "nbconvert_exporter": "python",
   "pygments_lexer": "ipython2",
   "version": "2.7.6"
  }
 },
 "nbformat": 4,
 "nbformat_minor": 0
}
