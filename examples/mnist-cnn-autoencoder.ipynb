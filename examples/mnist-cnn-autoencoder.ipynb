{
 "cells": [
  {
   "cell_type": "markdown",
   "metadata": {},
   "source": [
    "# MNIST CNN Autoencoder Example\n",
    "Uses Conv2D and Deconv2D operations to create a simple auto-encoder. In this example, it is possible that it learns the trivial function. It's intention is more to see how the *tt.network.conv2d_transpose()* function works."
   ]
  },
  {
   "cell_type": "code",
   "execution_count": null,
   "metadata": {
    "collapsed": false
   },
   "outputs": [],
   "source": [
    "# Force matplotlib to use inline rendering\n",
    "%matplotlib inline\n",
    "\n",
    "import os\n",
    "import sys\n",
    "\n",
    "# add path to libraries for ipython\n",
    "sys.path.append(os.path.expanduser(\"~/libs\"))\n",
    "\n",
    "import numpy as np\n",
    "import tensorflow as tf\n",
    "import tensortools as tt"
   ]
  },
  {
   "cell_type": "code",
   "execution_count": null,
   "metadata": {
    "collapsed": true
   },
   "outputs": [],
   "source": [
    "FRAME_W_H = 28\n",
    "BATCH_SIZE = 64\n",
    "MAX_STEPS = 2000\n",
    "LEARNING_RATE = 1e-4"
   ]
  },
  {
   "cell_type": "code",
   "execution_count": null,
   "metadata": {
    "collapsed": false
   },
   "outputs": [],
   "source": [
    "from tensorflow.examples.tutorials.mnist import input_data\n",
    "mnist = input_data.read_data_sets('MNIST_data', one_hot=True)"
   ]
  },
  {
   "cell_type": "code",
   "execution_count": null,
   "metadata": {
    "collapsed": false
   },
   "outputs": [],
   "source": [
    "sess = tf.InteractiveSession()"
   ]
  },
  {
   "cell_type": "markdown",
   "metadata": {},
   "source": [
    "### Inference"
   ]
  },
  {
   "cell_type": "code",
   "execution_count": null,
   "metadata": {
    "collapsed": false,
    "scrolled": true
   },
   "outputs": [],
   "source": [
    "x  = tf.placeholder(tf.float32, [BATCH_SIZE, FRAME_W_H ** 2], \"X\")\n",
    "y_ = tf.placeholder(tf.float32, [BATCH_SIZE, FRAME_W_H ** 2], \"Y_\")\n",
    "\n",
    "x_image = tf.reshape(x, [-1, FRAME_W_H, FRAME_W_H, 1])\n",
    "\n",
    "with tf.variable_scope(\"Encoder\"):\n",
    "    # 1: Conv\n",
    "    conv1 = tt.network.conv2d(\"Conv1\", x_image,\n",
    "                              32, 5, 5, 1, 1,\n",
    "                              stddev=0.02, bias=0.1,\n",
    "                              activation=tf.nn.relu)\n",
    "    h_pool1 = tt.network.max_pool2d(conv1, 2, 2, 2, 2)\n",
    "\n",
    "    # 2: Conv\n",
    "    conv2 = tt.network.conv2d(\"Conv2\", h_pool1,\n",
    "                              64, 5, 5, 1, 1,\n",
    "                              stddev=0.02, bias=0.1,\n",
    "                              activation=tf.nn.relu)\n",
    "    h_pool2 = tt.network.max_pool2d(conv2, 2, 2, 2, 2)\n",
    "    encoder_out = h_pool2\n",
    "\n",
    "with tf.variable_scope(\"Decoder\"):\n",
    "    # 3: Deconv\n",
    "    conv3t = tt.network.conv2d_transpose(\"Deconv1\", encoder_out,\n",
    "                                         32, BATCH_SIZE,\n",
    "                                         5, 5, 2, 2,\n",
    "                                         stddev=0.02, bias=0.1,\n",
    "                                         activation=tf.nn.relu)\n",
    "\n",
    "    # 4: Deconv\n",
    "    conv4t = tt.network.conv2d_transpose(\"Deconv2\", conv3t,\n",
    "                                         1, BATCH_SIZE,\n",
    "                                         5, 5, 2, 2,\n",
    "                                         stddev=0.02, bias=0.1)\n",
    "    decoder_out = conv4t\n",
    "\n",
    "output = tf.reshape(decoder_out, [-1,FRAME_W_H ** 2])"
   ]
  },
  {
   "cell_type": "code",
   "execution_count": null,
   "metadata": {
    "collapsed": false,
    "scrolled": true
   },
   "outputs": [],
   "source": [
    "with tf.name_scope(\"Train\"):\n",
    "    loss = tf.reduce_mean(tf.square(y_ - output))\n",
    "    train_step = tf.train.AdamOptimizer(LEARNING_RATE).minimize(loss)\n",
    "\n",
    "sess.run(tf.initialize_all_variables())"
   ]
  },
  {
   "cell_type": "code",
   "execution_count": null,
   "metadata": {
    "collapsed": false
   },
   "outputs": [],
   "source": [
    "tt.visualization.show_graph(sess.graph_def)"
   ]
  },
  {
   "cell_type": "markdown",
   "metadata": {},
   "source": [
    "### Training"
   ]
  },
  {
   "cell_type": "code",
   "execution_count": null,
   "metadata": {
    "collapsed": false
   },
   "outputs": [],
   "source": [
    "for i in range(MAX_STEPS + 1):\n",
    "    batch_images, _ = mnist.train.next_batch(BATCH_SIZE)\n",
    "    if i % 100 == 0:\n",
    "        train_loss = loss.eval(feed_dict={\n",
    "                               x: batch_images,\n",
    "                               y_: batch_images})\n",
    "        print(\"step %d / %d, loss %g\" % (i, MAX_STEPS, train_loss))\n",
    "    \n",
    "    train_step.run(feed_dict={x: batch_images, y_: batch_images})"
   ]
  },
  {
   "cell_type": "markdown",
   "metadata": {
    "collapsed": true
   },
   "source": [
    "### Evaluation"
   ]
  },
  {
   "cell_type": "code",
   "execution_count": null,
   "metadata": {
    "collapsed": false
   },
   "outputs": [],
   "source": [
    "test_images = mnist.test.images[:BATCH_SIZE]\n",
    "\n",
    "# print loss\n",
    "print(\"test loss %g\" % loss.eval(feed_dict={\n",
    "                                 x: test_images,\n",
    "                                 y_: test_images}))"
   ]
  },
  {
   "cell_type": "code",
   "execution_count": null,
   "metadata": {
    "collapsed": false
   },
   "outputs": [],
   "source": [
    "reshaped_test_images = np.reshape(test_images, [-1, FRAME_W_H, FRAME_W_H, 1])\n",
    "out_images = output.eval(feed_dict={x: test_images})\n",
    "reshaped_out_images = np.reshape(out_images, [-1, FRAME_W_H, FRAME_W_H, 1])\n",
    "\n",
    "img = reshaped_test_images[1] * 255\n",
    "tt.visualization.display_array(img)\n",
    "\n",
    "tt.visualization.display_batch(reshaped_test_images, 4, 4)\n",
    "\n",
    "tt.visualization.display_batch(reshaped_out_images, 4, 4)"
   ]
  },
  {
   "cell_type": "code",
   "execution_count": null,
   "metadata": {
    "collapsed": false
   },
   "outputs": [],
   "source": [
    "img1 = np.ones([240, 320, 1]) * 10\n",
    "img2 = np.ones([240, 320, 1]) * 110\n",
    "img3 = np.ones([240, 320, 1]) * 210\n",
    "\n",
    "img_batch = np.ones([4, 240, 320, 1]) * 210\n",
    "\n",
    "images = [img1, img2, img3]\n",
    "\n",
    "img_batch = np.asarray([img1, img2, img3, img1, img2])\n",
    "\n",
    "tt.visualization.display_array(img1)\n",
    "\n",
    "tt.visualization.display_batch(images)\n",
    "\n",
    "tt.visualization.display_batch(img_batch)"
   ]
  },
  {
   "cell_type": "code",
   "execution_count": null,
   "metadata": {
    "collapsed": true
   },
   "outputs": [],
   "source": []
  }
 ],
 "metadata": {
  "kernelspec": {
   "display_name": "Python 2",
   "language": "python",
   "name": "python2"
  },
  "language_info": {
   "codemirror_mode": {
    "name": "ipython",
    "version": 2
   },
   "file_extension": ".py",
   "mimetype": "text/x-python",
   "name": "python",
   "nbconvert_exporter": "python",
   "pygments_lexer": "ipython2",
   "version": "2.7.6"
  }
 },
 "nbformat": 4,
 "nbformat_minor": 0
}
